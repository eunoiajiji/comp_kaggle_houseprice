{
 "cells": [
  {
   "cell_type": "markdown",
   "id": "8528400f-0d7a-4a8a-af9c-f78c5ca588a1",
   "metadata": {},
   "source": [
    "# House Prices - Advanced Regression Techniques"
   ]
  },
  {
   "cell_type": "code",
   "execution_count": 1,
   "id": "8aa8c229-0898-4151-bf3a-d9b7f710cb82",
   "metadata": {
    "tags": []
   },
   "outputs": [
    {
     "data": {
      "text/html": [
       "<style>.container{width:100% !important;}</style>"
      ],
      "text/plain": [
       "<IPython.core.display.HTML object>"
      ]
     },
     "metadata": {},
     "output_type": "display_data"
    }
   ],
   "source": [
    "import numpy as np\n",
    "import pandas as pd\n",
    "from pandas.plotting import scatter_matrix\n",
    "\n",
    "import matplotlib.pyplot as plt\n",
    "import seaborn as sns\n",
    "\n",
    "sns.set()\n",
    "\n",
    "#-------------------- 차트 관련 속성 (한글처리, 그리드) -----------\n",
    "plt.rcParams['font.family']= 'Malgun Gothic'\n",
    "plt.rcParams['axes.unicode_minus'] = False\n",
    "\n",
    "#-------------------- 주피터 , 출력결과 넓이 늘리기 ---------------\n",
    "# from IPython.core.display import display, HTML\n",
    "from IPython.display import display, HTML\n",
    "\n",
    "display(HTML(\"<style>.container{width:100% !important;}</style>\"))\n",
    "pd.set_option('display.max_rows', 100)\n",
    "pd.set_option('display.max_columns', 100)\n",
    "pd.set_option('max_colwidth', None)\n",
    "\n",
    "import warnings\n",
    "warnings.filterwarnings(action='ignore')"
   ]
  },
  {
   "cell_type": "code",
   "execution_count": 2,
   "id": "1ee21798-0986-4aa3-99f4-0c3cf5554b4c",
   "metadata": {},
   "outputs": [],
   "source": [
    "from sklearn.model_selection import train_test_split, cross_val_score, cross_validate, GridSearchCV, KFold, StratifiedKFold\n",
    "from sklearn.metrics import auc, mean_squared_error, mean_squared_log_error, accuracy_score, f1_score, precision_score, recall_score, classification_report, confusion_matrix\n",
    "from sklearn.preprocessing import RobustScaler, MinMaxScaler, StandardScaler, label_binarize\n",
    "from sklearn.ensemble     import RandomForestRegressor, ExtraTreesRegressor\n",
    "from sklearn.tree         import DecisionTreeRegressor\n",
    "from sklearn.linear_model import Ridge, Lasso, LogisticRegression\n",
    "from sklearn.impute       import SimpleImputer\n",
    "# ---- 추가 모델\n",
    "from sklearn.ensemble     import AdaBoostRegressor, VotingRegressor\n",
    "from xgboost              import XGBRegressor\n",
    "from lightgbm             import LGBMRegressor\n",
    "from imblearn.over_sampling import ADASYN, SMOTE, RandomOverSampler\n",
    "from pandas_profiling import ProfileReport\n"
   ]
  },
  {
   "cell_type": "markdown",
   "id": "25b89184-8144-4b7d-ae34-c35ca0faa37b",
   "metadata": {},
   "source": [
    "# DATA LOAD"
   ]
  },
  {
   "cell_type": "code",
   "execution_count": 3,
   "id": "1d878be8-ad3e-41ad-a93c-1ab8bb7f624d",
   "metadata": {
    "tags": []
   },
   "outputs": [],
   "source": [
    "train = pd.read_csv('./train.csv')\n",
    "test = pd.read_csv('./test.csv')"
   ]
  },
  {
   "cell_type": "code",
   "execution_count": 4,
   "id": "6842aade-9161-42b8-97e2-cf1588db90b9",
   "metadata": {
    "tags": []
   },
   "outputs": [
    {
     "name": "stdout",
     "output_type": "stream",
     "text": [
      "<class 'pandas.core.frame.DataFrame'>\n",
      "RangeIndex: 1460 entries, 0 to 1459\n",
      "Data columns (total 81 columns):\n",
      " #   Column         Non-Null Count  Dtype  \n",
      "---  ------         --------------  -----  \n",
      " 0   Id             1460 non-null   int64  \n",
      " 1   MSSubClass     1460 non-null   int64  \n",
      " 2   MSZoning       1460 non-null   object \n",
      " 3   LotFrontage    1201 non-null   float64\n",
      " 4   LotArea        1460 non-null   int64  \n",
      " 5   Street         1460 non-null   object \n",
      " 6   Alley          91 non-null     object \n",
      " 7   LotShape       1460 non-null   object \n",
      " 8   LandContour    1460 non-null   object \n",
      " 9   Utilities      1460 non-null   object \n",
      " 10  LotConfig      1460 non-null   object \n",
      " 11  LandSlope      1460 non-null   object \n",
      " 12  Neighborhood   1460 non-null   object \n",
      " 13  Condition1     1460 non-null   object \n",
      " 14  Condition2     1460 non-null   object \n",
      " 15  BldgType       1460 non-null   object \n",
      " 16  HouseStyle     1460 non-null   object \n",
      " 17  OverallQual    1460 non-null   int64  \n",
      " 18  OverallCond    1460 non-null   int64  \n",
      " 19  YearBuilt      1460 non-null   int64  \n",
      " 20  YearRemodAdd   1460 non-null   int64  \n",
      " 21  RoofStyle      1460 non-null   object \n",
      " 22  RoofMatl       1460 non-null   object \n",
      " 23  Exterior1st    1460 non-null   object \n",
      " 24  Exterior2nd    1460 non-null   object \n",
      " 25  MasVnrType     1452 non-null   object \n",
      " 26  MasVnrArea     1452 non-null   float64\n",
      " 27  ExterQual      1460 non-null   object \n",
      " 28  ExterCond      1460 non-null   object \n",
      " 29  Foundation     1460 non-null   object \n",
      " 30  BsmtQual       1423 non-null   object \n",
      " 31  BsmtCond       1423 non-null   object \n",
      " 32  BsmtExposure   1422 non-null   object \n",
      " 33  BsmtFinType1   1423 non-null   object \n",
      " 34  BsmtFinSF1     1460 non-null   int64  \n",
      " 35  BsmtFinType2   1422 non-null   object \n",
      " 36  BsmtFinSF2     1460 non-null   int64  \n",
      " 37  BsmtUnfSF      1460 non-null   int64  \n",
      " 38  TotalBsmtSF    1460 non-null   int64  \n",
      " 39  Heating        1460 non-null   object \n",
      " 40  HeatingQC      1460 non-null   object \n",
      " 41  CentralAir     1460 non-null   object \n",
      " 42  Electrical     1459 non-null   object \n",
      " 43  1stFlrSF       1460 non-null   int64  \n",
      " 44  2ndFlrSF       1460 non-null   int64  \n",
      " 45  LowQualFinSF   1460 non-null   int64  \n",
      " 46  GrLivArea      1460 non-null   int64  \n",
      " 47  BsmtFullBath   1460 non-null   int64  \n",
      " 48  BsmtHalfBath   1460 non-null   int64  \n",
      " 49  FullBath       1460 non-null   int64  \n",
      " 50  HalfBath       1460 non-null   int64  \n",
      " 51  BedroomAbvGr   1460 non-null   int64  \n",
      " 52  KitchenAbvGr   1460 non-null   int64  \n",
      " 53  KitchenQual    1460 non-null   object \n",
      " 54  TotRmsAbvGrd   1460 non-null   int64  \n",
      " 55  Functional     1460 non-null   object \n",
      " 56  Fireplaces     1460 non-null   int64  \n",
      " 57  FireplaceQu    770 non-null    object \n",
      " 58  GarageType     1379 non-null   object \n",
      " 59  GarageYrBlt    1379 non-null   float64\n",
      " 60  GarageFinish   1379 non-null   object \n",
      " 61  GarageCars     1460 non-null   int64  \n",
      " 62  GarageArea     1460 non-null   int64  \n",
      " 63  GarageQual     1379 non-null   object \n",
      " 64  GarageCond     1379 non-null   object \n",
      " 65  PavedDrive     1460 non-null   object \n",
      " 66  WoodDeckSF     1460 non-null   int64  \n",
      " 67  OpenPorchSF    1460 non-null   int64  \n",
      " 68  EnclosedPorch  1460 non-null   int64  \n",
      " 69  3SsnPorch      1460 non-null   int64  \n",
      " 70  ScreenPorch    1460 non-null   int64  \n",
      " 71  PoolArea       1460 non-null   int64  \n",
      " 72  PoolQC         7 non-null      object \n",
      " 73  Fence          281 non-null    object \n",
      " 74  MiscFeature    54 non-null     object \n",
      " 75  MiscVal        1460 non-null   int64  \n",
      " 76  MoSold         1460 non-null   int64  \n",
      " 77  YrSold         1460 non-null   int64  \n",
      " 78  SaleType       1460 non-null   object \n",
      " 79  SaleCondition  1460 non-null   object \n",
      " 80  SalePrice      1460 non-null   int64  \n",
      "dtypes: float64(3), int64(35), object(43)\n",
      "memory usage: 924.0+ KB\n"
     ]
    }
   ],
   "source": [
    "train.info()"
   ]
  },
  {
   "cell_type": "code",
   "execution_count": 5,
   "id": "671ffa49-4c2f-4a5c-9b20-d471539135d8",
   "metadata": {
    "tags": []
   },
   "outputs": [
    {
     "name": "stdout",
     "output_type": "stream",
     "text": [
      "<class 'pandas.core.frame.DataFrame'>\n",
      "RangeIndex: 1459 entries, 0 to 1458\n",
      "Data columns (total 80 columns):\n",
      " #   Column         Non-Null Count  Dtype  \n",
      "---  ------         --------------  -----  \n",
      " 0   Id             1459 non-null   int64  \n",
      " 1   MSSubClass     1459 non-null   int64  \n",
      " 2   MSZoning       1455 non-null   object \n",
      " 3   LotFrontage    1232 non-null   float64\n",
      " 4   LotArea        1459 non-null   int64  \n",
      " 5   Street         1459 non-null   object \n",
      " 6   Alley          107 non-null    object \n",
      " 7   LotShape       1459 non-null   object \n",
      " 8   LandContour    1459 non-null   object \n",
      " 9   Utilities      1457 non-null   object \n",
      " 10  LotConfig      1459 non-null   object \n",
      " 11  LandSlope      1459 non-null   object \n",
      " 12  Neighborhood   1459 non-null   object \n",
      " 13  Condition1     1459 non-null   object \n",
      " 14  Condition2     1459 non-null   object \n",
      " 15  BldgType       1459 non-null   object \n",
      " 16  HouseStyle     1459 non-null   object \n",
      " 17  OverallQual    1459 non-null   int64  \n",
      " 18  OverallCond    1459 non-null   int64  \n",
      " 19  YearBuilt      1459 non-null   int64  \n",
      " 20  YearRemodAdd   1459 non-null   int64  \n",
      " 21  RoofStyle      1459 non-null   object \n",
      " 22  RoofMatl       1459 non-null   object \n",
      " 23  Exterior1st    1458 non-null   object \n",
      " 24  Exterior2nd    1458 non-null   object \n",
      " 25  MasVnrType     1443 non-null   object \n",
      " 26  MasVnrArea     1444 non-null   float64\n",
      " 27  ExterQual      1459 non-null   object \n",
      " 28  ExterCond      1459 non-null   object \n",
      " 29  Foundation     1459 non-null   object \n",
      " 30  BsmtQual       1415 non-null   object \n",
      " 31  BsmtCond       1414 non-null   object \n",
      " 32  BsmtExposure   1415 non-null   object \n",
      " 33  BsmtFinType1   1417 non-null   object \n",
      " 34  BsmtFinSF1     1458 non-null   float64\n",
      " 35  BsmtFinType2   1417 non-null   object \n",
      " 36  BsmtFinSF2     1458 non-null   float64\n",
      " 37  BsmtUnfSF      1458 non-null   float64\n",
      " 38  TotalBsmtSF    1458 non-null   float64\n",
      " 39  Heating        1459 non-null   object \n",
      " 40  HeatingQC      1459 non-null   object \n",
      " 41  CentralAir     1459 non-null   object \n",
      " 42  Electrical     1459 non-null   object \n",
      " 43  1stFlrSF       1459 non-null   int64  \n",
      " 44  2ndFlrSF       1459 non-null   int64  \n",
      " 45  LowQualFinSF   1459 non-null   int64  \n",
      " 46  GrLivArea      1459 non-null   int64  \n",
      " 47  BsmtFullBath   1457 non-null   float64\n",
      " 48  BsmtHalfBath   1457 non-null   float64\n",
      " 49  FullBath       1459 non-null   int64  \n",
      " 50  HalfBath       1459 non-null   int64  \n",
      " 51  BedroomAbvGr   1459 non-null   int64  \n",
      " 52  KitchenAbvGr   1459 non-null   int64  \n",
      " 53  KitchenQual    1458 non-null   object \n",
      " 54  TotRmsAbvGrd   1459 non-null   int64  \n",
      " 55  Functional     1457 non-null   object \n",
      " 56  Fireplaces     1459 non-null   int64  \n",
      " 57  FireplaceQu    729 non-null    object \n",
      " 58  GarageType     1383 non-null   object \n",
      " 59  GarageYrBlt    1381 non-null   float64\n",
      " 60  GarageFinish   1381 non-null   object \n",
      " 61  GarageCars     1458 non-null   float64\n",
      " 62  GarageArea     1458 non-null   float64\n",
      " 63  GarageQual     1381 non-null   object \n",
      " 64  GarageCond     1381 non-null   object \n",
      " 65  PavedDrive     1459 non-null   object \n",
      " 66  WoodDeckSF     1459 non-null   int64  \n",
      " 67  OpenPorchSF    1459 non-null   int64  \n",
      " 68  EnclosedPorch  1459 non-null   int64  \n",
      " 69  3SsnPorch      1459 non-null   int64  \n",
      " 70  ScreenPorch    1459 non-null   int64  \n",
      " 71  PoolArea       1459 non-null   int64  \n",
      " 72  PoolQC         3 non-null      object \n",
      " 73  Fence          290 non-null    object \n",
      " 74  MiscFeature    51 non-null     object \n",
      " 75  MiscVal        1459 non-null   int64  \n",
      " 76  MoSold         1459 non-null   int64  \n",
      " 77  YrSold         1459 non-null   int64  \n",
      " 78  SaleType       1458 non-null   object \n",
      " 79  SaleCondition  1459 non-null   object \n",
      "dtypes: float64(11), int64(26), object(43)\n",
      "memory usage: 912.0+ KB\n"
     ]
    }
   ],
   "source": [
    "test.info()"
   ]
  },
  {
   "cell_type": "markdown",
   "id": "a4ea8247-d93f-41f1-b6ed-c01873a5610d",
   "metadata": {},
   "source": [
    "<img src='./lot구조.png'>"
   ]
  },
  {
   "cell_type": "markdown",
   "id": "c69b0270-f87c-44d8-88ff-db375c9f3f1f",
   "metadata": {},
   "source": [
    "- 컬럼명 ref : https://mazdah.tistory.com/883\n",
    "- Lot : 사유지\n",
    "\n",
    "MSSubClass: 주거유형 Identifies the type of dwelling involved in the sale.\n",
    "\n",
    "        20\t1-STORY 1946 & NEWER ALL STYLES\n",
    "        30\t1-STORY 1945 & OLDER\n",
    "        40\t1-STORY W/FINISHED ATTIC ALL AGES\n",
    "        45\t1-1/2 STORY - UNFINISHED ALL AGES\n",
    "        50\t1-1/2 STORY FINISHED ALL AGES\n",
    "        60\t2-STORY 1946 & NEWER\n",
    "        70\t2-STORY 1945 & OLDER\n",
    "        75\t2-1/2 STORY ALL AGES\n",
    "        80\tSPLIT OR MULTI-LEVEL\n",
    "        85\tSPLIT FOYER\n",
    "        90\tDUPLEX - ALL STYLES AND AGES\n",
    "       120\t1-STORY PUD (Planned Unit Development) - 1946 & NEWER\n",
    "       150\t1-1/2 STORY PUD - ALL AGES\n",
    "       160\t2-STORY PUD - 1946 & NEWER\n",
    "       180\tPUD - MULTILEVEL - INCL SPLIT LEV/FOYER\n",
    "       190\t2 FAMILY CONVERSION - ALL STYLES AND AGES\n",
    "\n",
    "MSZoning: 건물형태 Identifies the general zoning classification of the sale.\n",
    "\t\t\n",
    "       A\tAgriculture\n",
    "       C\tCommercial\n",
    "       FV\tFloating Village Residential\n",
    "       I\tIndustrial\n",
    "       RH\tResidential High Density\n",
    "       RL\tResidential Low Density\n",
    "       RP\tResidential Low Density Park \n",
    "       RM\tResidential Medium Density\n",
    "\t\n",
    "LotFrontage: 주택에 연결된 거리의 직선 피트Linear feet of street connected to property\n",
    "\n",
    "LotArea: 대지 면적Lot size in square feet\n",
    "\n",
    "Street: 도로 (포장/ 비포장) Type of road access to property\n",
    "\n",
    "       Grvl\tGravel -> 비포장\n",
    "       Pave\tPaved -> 포장\n",
    "       \t\n",
    "Alley: 골목 Type of alley access to property\n",
    "\n",
    "       Grvl\tGravel\n",
    "       Pave\tPaved\n",
    "       NA \tNo alley access\n",
    "\t\t\n",
    "LotShape: 택지의 모양 General shape of property\n",
    "\n",
    "       Reg\tRegular\t\n",
    "       IR1\tSlightly irregular\n",
    "       IR2\tModerately Irregular\n",
    "       IR3\tIrregular\n",
    "       \n",
    "LandContour: 등고선 Flatness of the property\n",
    "\n",
    "       Lvl\tNear Flat/Level\t\n",
    "       Bnk\tBanked - Quick and significant rise from street grade to building\n",
    "       HLS\tHillside - Significant slope from side to side\n",
    "       Low\tDepression\n",
    "\t\t\n",
    "Utilities: 수도, 가스, 전기 시설 가능 여부Type of utilities available\n",
    "\t\t\n",
    "       AllPub\tAll public Utilities (E,G,W,& S)\t\n",
    "       NoSewr\tElectricity, Gas, and Water (Septic Tank)\n",
    "       NoSeWa\tElectricity and Gas Only\n",
    "       ELO\tElectricity only\t\n",
    "\t\n",
    "LotConfig: 택지 구성 Lot configuration\n",
    "\n",
    "       Inside\tInside lot : 내부구조\n",
    "       Corner\tCorner lot : 코너에 위치\n",
    "       CulDSac\tCul-de-sac : 막다른 길\n",
    "       FR2\tFrontage on 2 sides of property \n",
    "       FR3\tFrontage on 3 sides of property\n",
    "\t\n",
    "LandSlope: 경사도 Slope of property\n",
    "\t\t\n",
    "       Gtl\tGentle slope\n",
    "       Mod\tModerate Slope\t\n",
    "       Sev\tSevere Slope\n",
    "\t\n",
    "Neighborhood: 미국 물리적 주소위치(인접도시) Physical locations within Ames city limits\n",
    "\n",
    "    Bloomington Heights 일리노이\n",
    "    Bluestem\n",
    "    Briardale 브라이어데일 그린스 골프 코스\n",
    "    Brookside 컨트리 클럽 플라자 근방\n",
    "    Clear Creek 콜로라도의 카운티\n",
    "    College Creek 칼리지 강\n",
    "    Crawford 미국 조지아 주 오글 소프 카운티에있는 도시(2010년 인구조사 832명)\n",
    "    Edwards 캘리포니아주 모하비 사막에 있는 공군 기지\n",
    "    Gilbert 애리조나 주의 도시\n",
    "    Iowa DOT and Rail Road 아이오와주 교통부\n",
    "    Meadow Village 텍사스 샌안토니오 지역\n",
    "    Mitchell 사우스다코타 주\n",
    "    North Ames 에임스 - 아이오와의 도시(대학도시)\n",
    "    Northridge 캘리포니아 로스앤젤레스의 지역\n",
    "    Northpark Villa 워싱턴 시애틀의 아파트\n",
    "    Northridge Heights 네브래스카 링컨의 아파트 단지\n",
    "    Northwest Ames 에임스 - 아이오와의 도시(대학도시)\n",
    "    Old Town 캘리포니아 샌디에고의 지역\n",
    "    South & West of Iowa State University 아이오와 주립대학의 남서부\n",
    "    Sawyer 위스콘신의 카운티 (이 지역의 총 인구 수는 16,489명)\n",
    "    Sawyer West 위스콘신의 카운티 서쪽\n",
    "    Somerset 미국 매사추세츠 주 브리스톨 카운티의 마을\n",
    "    Stone Brook 뉴욕 주립대\n",
    "    Timberland 포틀랜드\n",
    "    Veenker 아이오와 에임스의 대중 골프장\n",
    "\n",
    "            \n",
    "Condition1: 조건들과의 근접성 Proximity to various conditions\n",
    "\n",
    "    Artery : Adjacent to arterial street (간선가로에 인접)\n",
    "    Feedr : Adjacent to feeder street (진입로에 인접)\n",
    "    Norm : Normal\n",
    "    RRNn : Within 200' of North-South Railroad (남북 철도에서 200내에)\n",
    "    RRAn : Adjacent to North-South Railroad (남북 철도에 인접)\n",
    "    PosN : Near positive off-site feature--park, greenbelt, etc. (공원, 그린벨트 등 가까이에 있는 긍정적 외부 장소)\n",
    "    PosA : Adjacent to postive off-site feature\n",
    "    RRNe : Within 200' of East-West Railroad (동서 철도에 200내에)\n",
    "    RRAe : Adjacent to East-West Railroad (동서 철도에 인접)\n",
    "\n",
    "Condition2: 다양한 조건들과의 근접성 ( 조건 둘 이상 ) Proximity to various conditions (if more than one is present)\n",
    "    Condition1에서 추가적으로 있는 인접 시설 \n",
    "        Artery\tAdjacent to arterial street\n",
    "        Feedr\tAdjacent to feeder street\t\n",
    "        Norm\tNormal\t\n",
    "        RRNn\tWithin 200' of North-South Railroad\n",
    "        RRAn\tAdjacent to North-South Railroad\n",
    "        PosN\tNear positive off-site feature--park, greenbelt, etc.\n",
    "        PosA\tAdjacent to postive off-site feature\n",
    "        RRNe\tWithin 200' of East-West Railroad\n",
    "        RRAe\tAdjacent to East-West Railroad\n",
    "\t\n",
    "BldgType: 주거유형 Type of dwelling\n",
    "\t\t\n",
    "       1Fam\tSingle-family Detached\t\n",
    "       2FmCon\tTwo-family Conversion; originally built as one-family dwelling\n",
    "       Duplx\tDuplex\n",
    "       TwnhsE\tTownhouse End Unit\n",
    "       TwnhsI\tTownhouse Inside Unit\n",
    "\t\n",
    "HouseStyle: Style of dwelling\n",
    "    1Story : 1층집\n",
    "    1.5Fin : 1.5층집: 2nd level finished\n",
    "    1.5Unf : 1.5층집: 2nd level unfinished\n",
    "    2Story : 2층집\n",
    "    2.5Fin : 2.5층집 :2nd level finished\n",
    "    2.5Unf : 2.5층집: 2nd level unfinished\n",
    "    SFoyer : split foyer\n",
    "    SLvl : split level\n",
    "\t\n",
    "OverallQual: 집의 전체적인 재료 및 마감재 평가 Rates the overall material and finish of the house\n",
    "\n",
    "       10\tVery Excellent\n",
    "       9\tExcellent\n",
    "       8\tVery Good\n",
    "       7\tGood\n",
    "       6\tAbove Average\n",
    "       5\tAverage\n",
    "       4\tBelow Average\n",
    "       3\tFair\n",
    "       2\tPoor\n",
    "       1\tVery Poor\n",
    "\t\n",
    "OverallCond: 집의 전반적인 상태평가 Rates the overall condition of the house\n",
    "\n",
    "       10\tVery Excellent\n",
    "       9\tExcellent\n",
    "       8\tVery Good\n",
    "       7\tGood\n",
    "       6\tAbove Average\t\n",
    "       5\tAverage\n",
    "       4\tBelow Average\t\n",
    "       3\tFair\n",
    "       2\tPoor\n",
    "       1\tVery Poor\n",
    "\t\t\n",
    "YearBuilt: 건물 지은 연도 Original construction date\n",
    "\n",
    "YearRemodAdd: 리모델링 한 연도 Remodel date (same as construction date if no remodeling or additions)\n",
    "\n",
    "RoofStyle: 지붕 스타일 Type of roof\n",
    "\n",
    "       Flat\tFlat\n",
    "       Gable\tGable\n",
    "       Gambrel\tGabrel (Barn)\n",
    "       Hip\tHip\n",
    "       Mansard\tMansard\n",
    "       Shed\tShed\n",
    "\t\t\n",
    "RoofMatl: 지붕 재료 Roof material\n",
    "\n",
    "       ClyTile\tClay or Tile\n",
    "       CompShg\tStandard (Composite) Shingle\n",
    "       Membran\tMembrane\n",
    "       Metal\tMetal\n",
    "       Roll\tRoll\n",
    "       Tar&Grv\tGravel & Tar\n",
    "       WdShake\tWood Shakes\n",
    "       WdShngl\tWood Shingles\n",
    "\t\t\n",
    "Exterior1st: 건물 외장 형태 1 Exterior covering on house\n",
    "\n",
    "       AsbShng\tAsbestos Shingles\n",
    "       AsphShn\tAsphalt Shingles\n",
    "       BrkComm\tBrick Common\n",
    "       BrkFace\tBrick Face\n",
    "       CBlock\tCinder Block\n",
    "       CemntBd\tCement Board\n",
    "       HdBoard\tHard Board\n",
    "       ImStucc\tImitation Stucco\n",
    "       MetalSd\tMetal Siding\n",
    "       Other\tOther\n",
    "       Plywood\tPlywood\n",
    "       PreCast\tPreCast\t\n",
    "       Stone\tStone\n",
    "       Stucco\tStucco\n",
    "       VinylSd\tVinyl Siding\n",
    "       Wd Sdng\tWood Siding\n",
    "       WdShing\tWood Shingles\n",
    "\t\n",
    "Exterior2nd: 건물 외장 형태 2Exterior covering on house (if more than one material)\n",
    "\n",
    "       AsbShng\tAsbestos Shingles\n",
    "       AsphShn\tAsphalt Shingles\n",
    "       BrkComm\tBrick Common\n",
    "       BrkFace\tBrick Face\n",
    "       CBlock\tCinder Block\n",
    "       CemntBd\tCement Board\n",
    "       HdBoard\tHard Board\n",
    "       ImStucc\tImitation Stucco\n",
    "       MetalSd\tMetal Siding\n",
    "       Other\tOther\n",
    "       Plywood\tPlywood\n",
    "       PreCast\tPreCast\n",
    "       Stone\tStone\n",
    "       Stucco\tStucco\n",
    "       VinylSd\tVinyl Siding\n",
    "       Wd Sdng\tWood Siding\n",
    "       WdShing\tWood Shingles\n",
    "       \n",
    "MasVnrType: 평방미터 안의 벽돌 베니어 타입 Masonry veneer type\n",
    "\n",
    "       BrkCmn\tBrick Common\n",
    "       BrkFace\tBrick Face\n",
    "       CBlock\tCinder Block\n",
    "       None\tNone\n",
    "       Stone\tStone\n",
    "\t\n",
    "MasVnrArea: 평방미터 안의 벽돌 베니어 영역 Masonry veneer area in square feet\n",
    "\n",
    "    - BrkCmn\tBrick Common(갈색 벽돌)\n",
    "    - BrkFace\tBrick Face(얼굴모양 벽돌)\n",
    "    - Stone\tStone(돌)\n",
    "\n",
    "ExterQual: 외부 소재 품질 평가 Evaluates the quality of the material on the exterior \n",
    "\t\t\n",
    "       Ex\tExcellent\n",
    "       Gd\tGood\n",
    "       TA\tAverage/Typical\n",
    "       Fa\tFair\n",
    "       Po\tPoor\n",
    "\t\t\n",
    "ExterCond: 외부 상태 Evaluates the present condition of the material on the exterior\n",
    "\t\t\n",
    "       Ex\tExcellent\n",
    "       Gd\tGood\n",
    "       TA\tAverage/Typical\n",
    "       Fa\tFair\n",
    "       Po\tPoor\n",
    "\t\t\n",
    "Foundation: 건축 틀 Type of foundation\n",
    "\t\t\n",
    "       BrkTil\tBrick & Tile\n",
    "       CBlock\tCinder Block\n",
    "       PConc\tPoured Contrete\t\n",
    "       Slab\tSlab\n",
    "       Stone\tStone\n",
    "       Wood\tWood\n",
    "\t\t\n",
    "BsmtQual: 지하실 높이 평가 Evaluates the height of the basement\n",
    "\n",
    "       Ex\tExcellent (100+ inches)\t\n",
    "       Gd\tGood (90-99 inches)\n",
    "       TA\tTypical (80-89 inches)\n",
    "       Fa\tFair (70-79 inches)\n",
    "       Po\tPoor (<70 inches\n",
    "       NA\tNo Basement\n",
    "\t\t\n",
    "BsmtCond: 지하실 높이 평가 Evaluates the general condition of the basement\n",
    "\n",
    "       Ex\tExcellent\n",
    "       Gd\tGood\n",
    "       TA\tTypical - slight dampness allowed\n",
    "       Fa\tFair - dampness or some cracking or settling\n",
    "       Po\tPoor - Severe cracking, settling, or wetness\n",
    "       NA\tNo Basement\n",
    "\t\n",
    "BsmtExposure: 지하실에서 밖으로 나가는 문이 있는지 혹은 벽 높이가 정원 수준인지 Refers to walkout or garden level walls\n",
    "\n",
    "       Gd\tGood Exposure\n",
    "       Av\tAverage Exposure (split levels or foyers typically score average or above)\t\n",
    "       Mn\tMimimum Exposure\n",
    "       No\tNo Exposure\n",
    "       NA\tNo Basement\n",
    "\t\n",
    "BsmtFinType1: 지하실 완공 면적의 등급 Rating of basement finished area\n",
    "\n",
    "       GLQ\tGood Living Quarters\n",
    "       ALQ\tAverage Living Quarters\n",
    "       BLQ\tBelow Average Living Quarters\t\n",
    "       Rec\tAverage Rec Room\n",
    "       LwQ\tLow Quality\n",
    "       Unf\tUnfinshed\n",
    "       NA\tNo Basement\n",
    "\t\t\n",
    "BsmtFinSF1: 크기가 1 평방 미터인 지하실 Type 1 finished square feet\n",
    "\n",
    "BsmtFinType2: multiple type일 경우의 지하실 완공 면적 등급 Rating of basement finished area (if multiple types)\n",
    "\n",
    "       GLQ\tGood Living Quarters\n",
    "       ALQ\tAverage Living Quarters\n",
    "       BLQ\tBelow Average Living Quarters\t\n",
    "       Rec\tAverage Rec Room\n",
    "       LwQ\tLow Quality\n",
    "       Unf\tUnfinshed\n",
    "       NA\tNo Basement\n",
    "\n",
    "BsmtFinSF2: 크기가 2 평방 미터인 지하실 Type 2 finished square feet\n",
    "\n",
    "BsmtUnfSF: 면적이 평방 미터로 측정이 안되는 지하실 Unfinished square feet of basement area\n",
    "\n",
    "TotalBsmtSF: 지하실의 총 평방 미터 Total square feet of basement area\n",
    "\n",
    "Heating: 난방 종류Type of heating\n",
    "\t\t\n",
    "       Floor\tFloor Furnace\n",
    "       GasA\tGas forced warm air furnace\n",
    "       GasW\tGas hot water or steam heat\n",
    "       Grav\tGravity furnace\t\n",
    "       OthW\tHot water or steam heat other than gas\n",
    "       Wall\tWall furnace\n",
    "\t\t\n",
    "HeatingQC: 난방 상태 Heating quality and condition\n",
    "\n",
    "       Ex\tExcellent\n",
    "       Gd\tGood\n",
    "       TA\tAverage/Typical\n",
    "       Fa\tFair\n",
    "       Po\tPoor\n",
    "\t\t\n",
    "CentralAir: 중앙 난방? Central air conditioning\n",
    "\n",
    "       N\tNo\n",
    "       Y\tYes\n",
    "\t\t\n",
    "Electrical: 전기 시스템 Electrical system\n",
    "\n",
    "       SBrkr\tStandard Circuit Breakers & Romex\n",
    "       FuseA\tFuse Box over 60 AMP and all Romex wiring (Average)\t\n",
    "       FuseF\t60 AMP Fuse Box and mostly Romex wiring (Fair)\n",
    "       FuseP\t60 AMP Fuse Box and mostly knob & tube wiring (poor)\n",
    "       Mix\tMixed\n",
    "\t\t\n",
    "1stFlrSF: 1층의 평방피트 First Floor square feet\n",
    " \n",
    "2ndFlrSF: 2층의 평방 피트 Second floor square feet\n",
    "\n",
    "LowQualFinSF: Low quality finished square feet (all floors)\n",
    "\n",
    "GrLivArea: 생활공간의 면적Above grade (ground) living area square feet\n",
    "\n",
    "BsmtFullBath: full 욕실(세면대,변기, 샤워, 욕조)이 있는 지하실 Basement full bathrooms\n",
    "\n",
    "BsmtHalfBath: half 욕실(세면대,변기)이 있는 지하실 Basement half bathrooms\n",
    "\n",
    "FullBath: 지상층의 (모든 시설이 갖춰진)욕실 수 Full bathrooms above grade\n",
    "\n",
    "HalfBath: 지상층의 (샤워시설 및 욕조가 없는)욕실 수 Half baths above grade\n",
    "\n",
    "Bedroom: 지상층의 침실 수 (지하실의 침실은 제외) Bedrooms above grade (does NOT include basement bedrooms)\n",
    "\n",
    "Kitchen: 지상층의 주방 수 Kitchens above grade\n",
    "\n",
    "KitchenQual: 주방의 품질 Kitchen quality\n",
    "\n",
    "       Ex\tExcellent\n",
    "       Gd\tGood\n",
    "       TA\tTypical/Average\n",
    "       Fa\tFair\n",
    "       Po\tPoor\n",
    "       \t\n",
    "TotRmsAbvGrd: 지상층의 전체 방 수 (욕실 제외) Total rooms above grade (does not include bathrooms)\n",
    "\n",
    "Functional: 집의 기능성 (공제가 보장되지 않는 경우 일반으로 가정) - 집이 제구실을 하는지? Home functionality (Assume typical unless deductions are warranted)\n",
    "\n",
    "       Typ\tTypical Functionality\n",
    "       Min1\tMinor Deductions 1\n",
    "       Min2\tMinor Deductions 2\n",
    "       Mod\tModerate Deductions\n",
    "       Maj1\tMajor Deductions 1\n",
    "       Maj2\tMajor Deductions 2\n",
    "       Sev\tSeverely Damaged\n",
    "       Sal\tSalvage only\n",
    "\t\t\n",
    "Fireplaces: 벽난로 개수 Number of fireplaces\n",
    "\n",
    "FireplaceQu: 벽난로 품질 Fireplace quality\n",
    "\n",
    "       Ex\tExcellent - Exceptional Masonry Fireplace\n",
    "       Gd\tGood - Masonry Fireplace in main level\n",
    "       TA\tAverage - Prefabricated Fireplace in main living area or Masonry Fireplace in basement\n",
    "       Fa\tFair - Prefabricated Fireplace in basement\n",
    "       Po\tPoor - Ben Franklin Stove\n",
    "       NA\tNo Fireplace\n",
    "\t\t\n",
    "GarageType: 차고위치 Garage location\n",
    "\t\t\n",
    "       2Types\tMore than one type of garage\n",
    "       Attchd\tAttached to home\n",
    "       Basment\tBasement Garage\n",
    "       BuiltIn\tBuilt-In (Garage part of house - typically has room above garage)\n",
    "       CarPort\tCar Port\n",
    "       Detchd\tDetached from home\n",
    "       NA\tNo Garage\n",
    "\t\t\n",
    "GarageYrBlt: 차고건설 연도 Year garage was built\n",
    "\t\t\n",
    "GarageFinish: 차고 인테리어 마감 Interior finish of the garage\n",
    "\n",
    "       Fin\tFinished\n",
    "       RFn\tRough Finished\t\n",
    "       Unf\tUnfinished\n",
    "       NA\tNo Garage\n",
    "\t\t\n",
    "GarageCars: 주차 가능 대수 기준 차고 크기 Size of garage in car capacity\n",
    "\n",
    "GarageArea: 차고 면적(평방피트)Size of garage in square feet\n",
    "\n",
    "GarageQual: 차고 품질 Garage quality\n",
    "\n",
    "       Ex\tExcellent\n",
    "       Gd\tGood\n",
    "       TA\tTypical/Average\n",
    "       Fa\tFair\n",
    "       Po\tPoor\n",
    "       NA\tNo Garage\n",
    "\t\t\n",
    "GarageCond: 차고 상태 Garage condition\n",
    "\n",
    "       Ex\tExcellent\n",
    "       Gd\tGood\n",
    "       TA\tTypical/Average\n",
    "       Fa\tFair\n",
    "       Po\tPoor\n",
    "       NA\tNo Garage\n",
    "\t\t\n",
    "PavedDrive: 진입로 포장 상태 Paved driveway\n",
    "\n",
    "       Y\tPaved (포장)\n",
    "       P\tPartial Pavement (부분 포장)\n",
    "       N\tDirt/Gravel (비포장)\n",
    "\t\t\n",
    "WoodDeckSF: 나무 바닥 면적 (평방피트) Wood deck area in square feet\n",
    "\n",
    "OpenPorchSF: 개방된 베란다 면적 (평방피트) Open porch area in square feet\n",
    "\n",
    "EnclosedPorch: 막힌 베란다 면적 (평방피트) Enclosed porch area in square feet\n",
    "\n",
    "3SsnPorch: 3계절 베란다 면적 (평방피트) Three season porch area in square feet\n",
    "\n",
    "ScreenPorch:  유리벽 베란다 면적 (평방피트) Screen porch area in square feet\n",
    "\n",
    "PoolArea: 수영장 면적 (평방피트) Pool area in square feet\n",
    "\n",
    "PoolQC: 수영장 품질 Pool quality\n",
    "\t\t\n",
    "       Ex\tExcellent\n",
    "       Gd\tGood\n",
    "       TA\tAverage/Typical\n",
    "       Fa\tFair\n",
    "       NA\tNo Pool\n",
    "\t\t\n",
    "Fence: 울타리 품질 Fence quality\n",
    "\t\t\n",
    "       GdPrv\tGood Privacy\n",
    "       MnPrv\tMinimum Privacy\n",
    "       GdWo\tGood Wood\n",
    "       MnWw\tMinimum Wood/Wire\n",
    "       NA\tNo Fence\n",
    "\t\n",
    "MiscFeature: 다른 카테고리에서 다루지 않은 기타 기능 Miscellaneous feature not covered in other categories\n",
    "\t\t\n",
    "       Elev\tElevator\n",
    "       Gar2\t2nd Garage (if not described in garage section)\n",
    "       Othr\tOther\n",
    "       Shed\tShed (over 100 SF)\n",
    "       TenC\tTennis Court\n",
    "       NA\tNone\n",
    "\t\t\n",
    "MiscVal: 기타 기능의 가치 $Value of miscellaneous feature\n",
    "\n",
    "MoSold: 집이 팔린 월 Month Sold (MM)\n",
    "\n",
    "YrSold: 집이 팔린 연도 Year Sold (YYYY)\n",
    "\n",
    "SaleType: 팔린유형 Type of sale\n",
    "\t\t\n",
    "       WD \tWarranty Deed - Conventional\n",
    "       CWD\tWarranty Deed - Cash\n",
    "       VWD\tWarranty Deed - VA Loan\n",
    "       New\tHome just constructed and sold\n",
    "       COD\tCourt Officer Deed/Estate\n",
    "       Con\tContract 15% Down payment regular terms\n",
    "       ConLw\tContract Low Down payment and low interest\n",
    "       ConLI\tContract Low Interest\n",
    "       ConLD\tContract Low Down\n",
    "       Oth\tOther\n",
    "\t\t\n",
    "SaleCondition: 판매 상태 Condition of sale\n",
    "\n",
    "       Normal\tNormal Sale\n",
    "       Abnorml\tAbnormal Sale -  trade, foreclosure, short sale\n",
    "       AdjLand\tAdjoining Land Purchase\n",
    "       Alloca\tAllocation - two linked properties with separate deeds, typically condo with a garage unit\t\n",
    "       Family\tSale between family members \n",
    "       Partial\tHome was not completed when last assessed (associated with New Homes)\n"
   ]
  },
  {
   "cell_type": "markdown",
   "id": "55be051d-599c-4c12-a354-3454d6c8a1b0",
   "metadata": {
    "jp-MarkdownHeadingCollapsed": true,
    "tags": []
   },
   "source": [
    "- 쉬운 버전\n",
    "<pre>\n",
    "- 1. train.csv : 학습 데이터\n",
    "id : 데이터 고유 id\n",
    "OverallQual : 전반적 재료와 마감 품질\n",
    "YearBuilt : 완공 연도\n",
    "YearRemodAdd : 리모델링 연도\n",
    "ExterQual : 외관 재료 품질\n",
    "BsmtQual : 지하실 높이\n",
    "TotalBsmtSF : 지하실 면적 \n",
    "1stFlrSF : 1층 면적 \n",
    "GrLivArea : 지상층 생활 면적\n",
    "FullBath : 지상층 화장실 개수 \n",
    "KitchenQual : 부억 품질 \n",
    "GarageYrBlt : 차고 완공 연도\n",
    "GarageCars: 차고 자리 개수\n",
    "GarageArea: 차고 면적 \n",
    "target : 집값(달러 단위)\n",
    "\n",
    "\n",
    "- 2.test.csv\n",
    "id : 데이터 고유 id\n",
    "OverallQual : 전반적 재료와 마감 품질\n",
    "YearBuilt : 완공 연도\n",
    "YearRemodAdd : 리모델링 연도\n",
    "ExterQual : 외관 재료 품질\n",
    "BsmtQual : 지하실 높이\n",
    "TotalBsmtSF : 지하실 면적 \n",
    "1stFlrSF : 1층 면적 \n",
    "GrLivArea : 지상층 생활 면적\n",
    "FullBath : 지상층 화장실 개수 \n",
    "KitchenQual : 부억 품질 \n",
    "GarageYrBlt : 차고 완공 연도\n",
    "GarageCars: 차고 자리 개수\n",
    "GarageArea: 차고 면적"
   ]
  },
  {
   "cell_type": "markdown",
   "id": "e0925178-698a-43d4-9fb7-d17a9b96906a",
   "metadata": {},
   "source": [
    "## 고유값 제거 : ID "
   ]
  },
  {
   "cell_type": "code",
   "execution_count": 6,
   "id": "8ef3fd58-d73d-4673-a135-ccdf0f0f3352",
   "metadata": {
    "tags": []
   },
   "outputs": [],
   "source": [
    "train= train.drop('Id', axis = 1)\n",
    "test= test.drop('Id', axis = 1)"
   ]
  },
  {
   "cell_type": "markdown",
   "id": "995e31fd-6a81-4cc6-bf9f-f47c2ef47c3d",
   "metadata": {},
   "source": [
    "## 결측 확인"
   ]
  },
  {
   "cell_type": "code",
   "execution_count": 7,
   "id": "97aaf308-be27-45c8-9951-3a35934d9bf5",
   "metadata": {
    "tags": []
   },
   "outputs": [
    {
     "data": {
      "text/plain": [
       "LotFrontage      259\n",
       "Alley           1369\n",
       "MasVnrType         8\n",
       "MasVnrArea         8\n",
       "BsmtQual          37\n",
       "BsmtCond          37\n",
       "BsmtExposure      38\n",
       "BsmtFinType1      37\n",
       "BsmtFinType2      38\n",
       "Electrical         1\n",
       "FireplaceQu      690\n",
       "GarageType        81\n",
       "GarageYrBlt       81\n",
       "GarageFinish      81\n",
       "GarageQual        81\n",
       "GarageCond        81\n",
       "PoolQC          1453\n",
       "Fence           1179\n",
       "MiscFeature     1406\n",
       "dtype: int64"
      ]
     },
     "execution_count": 7,
     "metadata": {},
     "output_type": "execute_result"
    }
   ],
   "source": [
    "train.isna().sum()[train.isna().sum()>0]"
   ]
  },
  {
   "cell_type": "code",
   "execution_count": 8,
   "id": "35010b0f-7832-4171-a9aa-d909c67f1e99",
   "metadata": {
    "tags": []
   },
   "outputs": [
    {
     "data": {
      "text/plain": [
       "MSZoning           4\n",
       "LotFrontage      227\n",
       "Alley           1352\n",
       "Utilities          2\n",
       "Exterior1st        1\n",
       "Exterior2nd        1\n",
       "MasVnrType        16\n",
       "MasVnrArea        15\n",
       "BsmtQual          44\n",
       "BsmtCond          45\n",
       "BsmtExposure      44\n",
       "BsmtFinType1      42\n",
       "BsmtFinSF1         1\n",
       "BsmtFinType2      42\n",
       "BsmtFinSF2         1\n",
       "BsmtUnfSF          1\n",
       "TotalBsmtSF        1\n",
       "BsmtFullBath       2\n",
       "BsmtHalfBath       2\n",
       "KitchenQual        1\n",
       "Functional         2\n",
       "FireplaceQu      730\n",
       "GarageType        76\n",
       "GarageYrBlt       78\n",
       "GarageFinish      78\n",
       "GarageCars         1\n",
       "GarageArea         1\n",
       "GarageQual        78\n",
       "GarageCond        78\n",
       "PoolQC          1456\n",
       "Fence           1169\n",
       "MiscFeature     1408\n",
       "SaleType           1\n",
       "dtype: int64"
      ]
     },
     "execution_count": 8,
     "metadata": {},
     "output_type": "execute_result"
    }
   ],
   "source": [
    "test.isna().sum()[test.isna().sum()>0]"
   ]
  },
  {
   "cell_type": "markdown",
   "id": "7d4cf021-519b-4ed1-a05b-34c609abe7c7",
   "metadata": {},
   "source": [
    "### LotFrontage\n",
    "- 집에서 도로까지의 직선 거리 \n",
    "- 결측 (259건) 0으로 채움"
   ]
  },
  {
   "cell_type": "code",
   "execution_count": 9,
   "id": "fdd26e05-8c0c-49b0-94ea-52cc745c977b",
   "metadata": {
    "tags": []
   },
   "outputs": [
    {
     "data": {
      "text/plain": [
       "259"
      ]
     },
     "execution_count": 9,
     "metadata": {},
     "output_type": "execute_result"
    }
   ],
   "source": [
    "train['LotFrontage'].isna().sum()"
   ]
  },
  {
   "cell_type": "code",
   "execution_count": 10,
   "id": "e8b58d0d-a1a4-4955-a261-f95b9b35bfc1",
   "metadata": {
    "tags": []
   },
   "outputs": [
    {
     "data": {
      "text/plain": [
       "count    1201.000000\n",
       "mean       70.049958\n",
       "std        24.284752\n",
       "min        21.000000\n",
       "25%        59.000000\n",
       "50%        69.000000\n",
       "75%        80.000000\n",
       "max       313.000000\n",
       "Name: LotFrontage, dtype: float64"
      ]
     },
     "execution_count": 10,
     "metadata": {},
     "output_type": "execute_result"
    }
   ],
   "source": [
    "train['LotFrontage'].describe()"
   ]
  },
  {
   "cell_type": "code",
   "execution_count": 11,
   "id": "4bee4a2c-5883-49ac-b7fd-b9d21c411127",
   "metadata": {
    "tags": []
   },
   "outputs": [],
   "source": [
    "train['LotFrontage'].fillna(0,inplace=True)"
   ]
  },
  {
   "cell_type": "markdown",
   "id": "a84a52cb-f6b3-4be4-bf5e-8be5961ac73c",
   "metadata": {},
   "source": [
    "#### test"
   ]
  },
  {
   "cell_type": "code",
   "execution_count": 12,
   "id": "2d6d4e56-96e9-4375-947d-28a947e7b110",
   "metadata": {
    "tags": []
   },
   "outputs": [
    {
     "data": {
      "text/plain": [
       "227"
      ]
     },
     "execution_count": 12,
     "metadata": {},
     "output_type": "execute_result"
    }
   ],
   "source": [
    "test['LotFrontage'].isna().sum()"
   ]
  },
  {
   "cell_type": "code",
   "execution_count": 13,
   "id": "5b962ee7-4818-4235-a318-299ecdd1254a",
   "metadata": {
    "tags": []
   },
   "outputs": [],
   "source": [
    "test['LotFrontage'] = test['LotFrontage'].fillna(0)"
   ]
  },
  {
   "cell_type": "markdown",
   "id": "a1e3e673-15c3-467b-a36b-cbd97a3c74d6",
   "metadata": {},
   "source": [
    "### (▼Alley), Street(다중 공선 둘중 하나)  \n",
    "- Alley : 집에 접근하는 골목의 형태\n",
    "    null                   ->0\n",
    "    Grvl    : 50(비포장)   ->0\n",
    "    Pave    : 41(포장)     ->1\n",
    "    \n",
    "- Street : 집까지 이어지는 길의 형태\n",
    "    null    ->0\n",
    "    Grvl    ->0\n",
    "    Pave    ->1"
   ]
  },
  {
   "cell_type": "code",
   "execution_count": 14,
   "id": "5df1a2aa-8e69-4e8c-936d-2cf49fc9ab20",
   "metadata": {
    "tags": []
   },
   "outputs": [
    {
     "data": {
      "text/html": [
       "<div>\n",
       "<style scoped>\n",
       "    .dataframe tbody tr th:only-of-type {\n",
       "        vertical-align: middle;\n",
       "    }\n",
       "\n",
       "    .dataframe tbody tr th {\n",
       "        vertical-align: top;\n",
       "    }\n",
       "\n",
       "    .dataframe thead th {\n",
       "        text-align: right;\n",
       "    }\n",
       "</style>\n",
       "<table border=\"1\" class=\"dataframe\">\n",
       "  <thead>\n",
       "    <tr style=\"text-align: right;\">\n",
       "      <th></th>\n",
       "      <th>MSSubClass</th>\n",
       "      <th>MSZoning</th>\n",
       "      <th>LotFrontage</th>\n",
       "      <th>LotArea</th>\n",
       "      <th>Street</th>\n",
       "      <th>Alley</th>\n",
       "      <th>LotShape</th>\n",
       "      <th>LandContour</th>\n",
       "      <th>Utilities</th>\n",
       "      <th>LotConfig</th>\n",
       "      <th>LandSlope</th>\n",
       "      <th>Neighborhood</th>\n",
       "      <th>Condition1</th>\n",
       "      <th>Condition2</th>\n",
       "      <th>BldgType</th>\n",
       "      <th>HouseStyle</th>\n",
       "      <th>OverallQual</th>\n",
       "      <th>OverallCond</th>\n",
       "      <th>YearBuilt</th>\n",
       "      <th>YearRemodAdd</th>\n",
       "      <th>RoofStyle</th>\n",
       "      <th>RoofMatl</th>\n",
       "      <th>Exterior1st</th>\n",
       "      <th>Exterior2nd</th>\n",
       "      <th>MasVnrType</th>\n",
       "      <th>MasVnrArea</th>\n",
       "      <th>ExterQual</th>\n",
       "      <th>ExterCond</th>\n",
       "      <th>Foundation</th>\n",
       "      <th>BsmtQual</th>\n",
       "      <th>BsmtCond</th>\n",
       "      <th>BsmtExposure</th>\n",
       "      <th>BsmtFinType1</th>\n",
       "      <th>BsmtFinSF1</th>\n",
       "      <th>BsmtFinType2</th>\n",
       "      <th>BsmtFinSF2</th>\n",
       "      <th>BsmtUnfSF</th>\n",
       "      <th>TotalBsmtSF</th>\n",
       "      <th>Heating</th>\n",
       "      <th>HeatingQC</th>\n",
       "      <th>CentralAir</th>\n",
       "      <th>Electrical</th>\n",
       "      <th>1stFlrSF</th>\n",
       "      <th>2ndFlrSF</th>\n",
       "      <th>LowQualFinSF</th>\n",
       "      <th>GrLivArea</th>\n",
       "      <th>BsmtFullBath</th>\n",
       "      <th>BsmtHalfBath</th>\n",
       "      <th>FullBath</th>\n",
       "      <th>HalfBath</th>\n",
       "      <th>BedroomAbvGr</th>\n",
       "      <th>KitchenAbvGr</th>\n",
       "      <th>KitchenQual</th>\n",
       "      <th>TotRmsAbvGrd</th>\n",
       "      <th>Functional</th>\n",
       "      <th>Fireplaces</th>\n",
       "      <th>FireplaceQu</th>\n",
       "      <th>GarageType</th>\n",
       "      <th>GarageYrBlt</th>\n",
       "      <th>GarageFinish</th>\n",
       "      <th>GarageCars</th>\n",
       "      <th>GarageArea</th>\n",
       "      <th>GarageQual</th>\n",
       "      <th>GarageCond</th>\n",
       "      <th>PavedDrive</th>\n",
       "      <th>WoodDeckSF</th>\n",
       "      <th>OpenPorchSF</th>\n",
       "      <th>EnclosedPorch</th>\n",
       "      <th>3SsnPorch</th>\n",
       "      <th>ScreenPorch</th>\n",
       "      <th>PoolArea</th>\n",
       "      <th>PoolQC</th>\n",
       "      <th>Fence</th>\n",
       "      <th>MiscFeature</th>\n",
       "      <th>MiscVal</th>\n",
       "      <th>MoSold</th>\n",
       "      <th>YrSold</th>\n",
       "      <th>SaleType</th>\n",
       "      <th>SaleCondition</th>\n",
       "      <th>SalePrice</th>\n",
       "    </tr>\n",
       "  </thead>\n",
       "  <tbody>\n",
       "    <tr>\n",
       "      <th>21</th>\n",
       "      <td>45</td>\n",
       "      <td>RM</td>\n",
       "      <td>57.0</td>\n",
       "      <td>7449</td>\n",
       "      <td>Pave</td>\n",
       "      <td>Grvl</td>\n",
       "      <td>Reg</td>\n",
       "      <td>Bnk</td>\n",
       "      <td>AllPub</td>\n",
       "      <td>Inside</td>\n",
       "      <td>Gtl</td>\n",
       "      <td>IDOTRR</td>\n",
       "      <td>Norm</td>\n",
       "      <td>Norm</td>\n",
       "      <td>1Fam</td>\n",
       "      <td>1.5Unf</td>\n",
       "      <td>7</td>\n",
       "      <td>7</td>\n",
       "      <td>1930</td>\n",
       "      <td>1950</td>\n",
       "      <td>Gable</td>\n",
       "      <td>CompShg</td>\n",
       "      <td>Wd Sdng</td>\n",
       "      <td>Wd Sdng</td>\n",
       "      <td>None</td>\n",
       "      <td>0.0</td>\n",
       "      <td>TA</td>\n",
       "      <td>TA</td>\n",
       "      <td>PConc</td>\n",
       "      <td>TA</td>\n",
       "      <td>TA</td>\n",
       "      <td>No</td>\n",
       "      <td>Unf</td>\n",
       "      <td>0</td>\n",
       "      <td>Unf</td>\n",
       "      <td>0</td>\n",
       "      <td>637</td>\n",
       "      <td>637</td>\n",
       "      <td>GasA</td>\n",
       "      <td>Ex</td>\n",
       "      <td>Y</td>\n",
       "      <td>FuseF</td>\n",
       "      <td>1108</td>\n",
       "      <td>0</td>\n",
       "      <td>0</td>\n",
       "      <td>1108</td>\n",
       "      <td>0</td>\n",
       "      <td>0</td>\n",
       "      <td>1</td>\n",
       "      <td>0</td>\n",
       "      <td>3</td>\n",
       "      <td>1</td>\n",
       "      <td>Gd</td>\n",
       "      <td>6</td>\n",
       "      <td>Typ</td>\n",
       "      <td>1</td>\n",
       "      <td>Gd</td>\n",
       "      <td>Attchd</td>\n",
       "      <td>1930.0</td>\n",
       "      <td>Unf</td>\n",
       "      <td>1</td>\n",
       "      <td>280</td>\n",
       "      <td>TA</td>\n",
       "      <td>TA</td>\n",
       "      <td>N</td>\n",
       "      <td>0</td>\n",
       "      <td>0</td>\n",
       "      <td>205</td>\n",
       "      <td>0</td>\n",
       "      <td>0</td>\n",
       "      <td>0</td>\n",
       "      <td>NaN</td>\n",
       "      <td>GdPrv</td>\n",
       "      <td>NaN</td>\n",
       "      <td>0</td>\n",
       "      <td>6</td>\n",
       "      <td>2007</td>\n",
       "      <td>WD</td>\n",
       "      <td>Normal</td>\n",
       "      <td>139400</td>\n",
       "    </tr>\n",
       "    <tr>\n",
       "      <th>30</th>\n",
       "      <td>70</td>\n",
       "      <td>C (all)</td>\n",
       "      <td>50.0</td>\n",
       "      <td>8500</td>\n",
       "      <td>Pave</td>\n",
       "      <td>Pave</td>\n",
       "      <td>Reg</td>\n",
       "      <td>Lvl</td>\n",
       "      <td>AllPub</td>\n",
       "      <td>Inside</td>\n",
       "      <td>Gtl</td>\n",
       "      <td>IDOTRR</td>\n",
       "      <td>Feedr</td>\n",
       "      <td>Norm</td>\n",
       "      <td>1Fam</td>\n",
       "      <td>2Story</td>\n",
       "      <td>4</td>\n",
       "      <td>4</td>\n",
       "      <td>1920</td>\n",
       "      <td>1950</td>\n",
       "      <td>Gambrel</td>\n",
       "      <td>CompShg</td>\n",
       "      <td>BrkFace</td>\n",
       "      <td>BrkFace</td>\n",
       "      <td>None</td>\n",
       "      <td>0.0</td>\n",
       "      <td>TA</td>\n",
       "      <td>Fa</td>\n",
       "      <td>BrkTil</td>\n",
       "      <td>TA</td>\n",
       "      <td>TA</td>\n",
       "      <td>No</td>\n",
       "      <td>Unf</td>\n",
       "      <td>0</td>\n",
       "      <td>Unf</td>\n",
       "      <td>0</td>\n",
       "      <td>649</td>\n",
       "      <td>649</td>\n",
       "      <td>GasA</td>\n",
       "      <td>TA</td>\n",
       "      <td>N</td>\n",
       "      <td>SBrkr</td>\n",
       "      <td>649</td>\n",
       "      <td>668</td>\n",
       "      <td>0</td>\n",
       "      <td>1317</td>\n",
       "      <td>0</td>\n",
       "      <td>0</td>\n",
       "      <td>1</td>\n",
       "      <td>0</td>\n",
       "      <td>3</td>\n",
       "      <td>1</td>\n",
       "      <td>TA</td>\n",
       "      <td>6</td>\n",
       "      <td>Typ</td>\n",
       "      <td>0</td>\n",
       "      <td>NaN</td>\n",
       "      <td>Detchd</td>\n",
       "      <td>1920.0</td>\n",
       "      <td>Unf</td>\n",
       "      <td>1</td>\n",
       "      <td>250</td>\n",
       "      <td>TA</td>\n",
       "      <td>Fa</td>\n",
       "      <td>N</td>\n",
       "      <td>0</td>\n",
       "      <td>54</td>\n",
       "      <td>172</td>\n",
       "      <td>0</td>\n",
       "      <td>0</td>\n",
       "      <td>0</td>\n",
       "      <td>NaN</td>\n",
       "      <td>MnPrv</td>\n",
       "      <td>NaN</td>\n",
       "      <td>0</td>\n",
       "      <td>7</td>\n",
       "      <td>2008</td>\n",
       "      <td>WD</td>\n",
       "      <td>Normal</td>\n",
       "      <td>40000</td>\n",
       "    </tr>\n",
       "  </tbody>\n",
       "</table>\n",
       "</div>"
      ],
      "text/plain": [
       "    MSSubClass MSZoning  LotFrontage  LotArea Street Alley LotShape  \\\n",
       "21          45       RM         57.0     7449   Pave  Grvl      Reg   \n",
       "30          70  C (all)         50.0     8500   Pave  Pave      Reg   \n",
       "\n",
       "   LandContour Utilities LotConfig LandSlope Neighborhood Condition1  \\\n",
       "21         Bnk    AllPub    Inside       Gtl       IDOTRR       Norm   \n",
       "30         Lvl    AllPub    Inside       Gtl       IDOTRR      Feedr   \n",
       "\n",
       "   Condition2 BldgType HouseStyle  OverallQual  OverallCond  YearBuilt  \\\n",
       "21       Norm     1Fam     1.5Unf            7            7       1930   \n",
       "30       Norm     1Fam     2Story            4            4       1920   \n",
       "\n",
       "    YearRemodAdd RoofStyle RoofMatl Exterior1st Exterior2nd MasVnrType  \\\n",
       "21          1950     Gable  CompShg     Wd Sdng     Wd Sdng       None   \n",
       "30          1950   Gambrel  CompShg     BrkFace     BrkFace       None   \n",
       "\n",
       "    MasVnrArea ExterQual ExterCond Foundation BsmtQual BsmtCond BsmtExposure  \\\n",
       "21         0.0        TA        TA      PConc       TA       TA           No   \n",
       "30         0.0        TA        Fa     BrkTil       TA       TA           No   \n",
       "\n",
       "   BsmtFinType1  BsmtFinSF1 BsmtFinType2  BsmtFinSF2  BsmtUnfSF  TotalBsmtSF  \\\n",
       "21          Unf           0          Unf           0        637          637   \n",
       "30          Unf           0          Unf           0        649          649   \n",
       "\n",
       "   Heating HeatingQC CentralAir Electrical  1stFlrSF  2ndFlrSF  LowQualFinSF  \\\n",
       "21    GasA        Ex          Y      FuseF      1108         0             0   \n",
       "30    GasA        TA          N      SBrkr       649       668             0   \n",
       "\n",
       "    GrLivArea  BsmtFullBath  BsmtHalfBath  FullBath  HalfBath  BedroomAbvGr  \\\n",
       "21       1108             0             0         1         0             3   \n",
       "30       1317             0             0         1         0             3   \n",
       "\n",
       "    KitchenAbvGr KitchenQual  TotRmsAbvGrd Functional  Fireplaces FireplaceQu  \\\n",
       "21             1          Gd             6        Typ           1          Gd   \n",
       "30             1          TA             6        Typ           0         NaN   \n",
       "\n",
       "   GarageType  GarageYrBlt GarageFinish  GarageCars  GarageArea GarageQual  \\\n",
       "21     Attchd       1930.0          Unf           1         280         TA   \n",
       "30     Detchd       1920.0          Unf           1         250         TA   \n",
       "\n",
       "   GarageCond PavedDrive  WoodDeckSF  OpenPorchSF  EnclosedPorch  3SsnPorch  \\\n",
       "21         TA          N           0            0            205          0   \n",
       "30         Fa          N           0           54            172          0   \n",
       "\n",
       "    ScreenPorch  PoolArea PoolQC  Fence MiscFeature  MiscVal  MoSold  YrSold  \\\n",
       "21            0         0    NaN  GdPrv         NaN        0       6    2007   \n",
       "30            0         0    NaN  MnPrv         NaN        0       7    2008   \n",
       "\n",
       "   SaleType SaleCondition  SalePrice  \n",
       "21       WD        Normal     139400  \n",
       "30       WD        Normal      40000  "
      ]
     },
     "execution_count": 14,
     "metadata": {},
     "output_type": "execute_result"
    }
   ],
   "source": [
    "train[train['Alley'].notna()][:2]"
   ]
  },
  {
   "cell_type": "code",
   "execution_count": 15,
   "id": "4209b6ae-b258-4f11-ba13-22cafc4ae2d1",
   "metadata": {
    "tags": []
   },
   "outputs": [
    {
     "data": {
      "text/plain": [
       "Grvl    50\n",
       "Pave    41\n",
       "Name: Alley, dtype: int64"
      ]
     },
     "execution_count": 15,
     "metadata": {},
     "output_type": "execute_result"
    }
   ],
   "source": [
    "train['Alley'].value_counts()"
   ]
  },
  {
   "cell_type": "code",
   "execution_count": 16,
   "id": "58637ac4-e850-4b5e-a486-841d7102c21d",
   "metadata": {
    "tags": []
   },
   "outputs": [],
   "source": [
    "train['Alley'] = train['Alley'].replace(['Grvl','Pave'],[0,1])\n",
    "train['Alley'].fillna(0,inplace=True)\n",
    "\n",
    "train['Street'] = train['Street'].replace(['Grvl','Pave'],[0,1])\n",
    "train['Street'].fillna(0,inplace=True)"
   ]
  },
  {
   "cell_type": "code",
   "execution_count": 17,
   "id": "2f7a0126-5e3e-4af6-86fc-4a4331e06b7e",
   "metadata": {
    "tags": []
   },
   "outputs": [
    {
     "data": {
      "image/png": "[encoded data removed]",
      "text/plain": [
       "<Figure size 1200x500 with 2 Axes>"
      ]
     },
     "metadata": {},
     "output_type": "display_data"
    }
   ],
   "source": [
    "fig,ax = plt.subplots(1,2,figsize=(12,5))\n",
    "sns.scatterplot(x = train['Alley'], y=train['SalePrice'],ax=ax[0])\n",
    "sns.scatterplot(x = train['Street'], y=train['SalePrice'],ax=ax[1])\n",
    "plt.show()"
   ]
  },
  {
   "cell_type": "code",
   "execution_count": 18,
   "id": "91960152-70e5-4af0-8a85-f96eb78d4ab7",
   "metadata": {
    "tags": []
   },
   "outputs": [],
   "source": [
    "train = train.drop('Alley',axis=1)"
   ]
  },
  {
   "cell_type": "markdown",
   "id": "629fdfca-c4a1-4a5a-b989-9a33e41d517d",
   "metadata": {},
   "source": [
    "#### test"
   ]
  },
  {
   "cell_type": "code",
   "execution_count": 19,
   "id": "6bcef1f1-d108-44ac-9fb6-54a597305fbd",
   "metadata": {
    "tags": []
   },
   "outputs": [],
   "source": [
    "test['Alley'] = test['Alley'].replace(['Grvl','Pave'],[0,1])\n",
    "test['Alley'].fillna(0,inplace=True)\n",
    "\n",
    "test['Street'] = test['Street'].replace(['Grvl','Pave'],[0,1])\n",
    "test['Street'].fillna(0,inplace=True)"
   ]
  },
  {
   "cell_type": "code",
   "execution_count": 20,
   "id": "0a90e7af-31cb-47a6-8c82-8fd5c2345828",
   "metadata": {},
   "outputs": [],
   "source": [
    "test = test.drop('Alley',axis=1)"
   ]
  },
  {
   "cell_type": "markdown",
   "id": "93df7f04-2cd1-4ff5-9eb3-05df5d88e087",
   "metadata": {},
   "source": [
    "### MasVnrType \n",
    "- 평방미터 안의 벽돌 베니어 영역\n",
    "- BrkCmn\tBrick Common(갈색 벽돌)\n",
    "- BrkFace\tBrick Face(얼굴모양 벽돌)\n",
    "- Stone\tStone\n",
    "- 결측치를 None으로 채움"
   ]
  },
  {
   "cell_type": "code",
   "execution_count": 21,
   "id": "7f0d9fff-a462-42fe-aa87-2067251193ae",
   "metadata": {
    "tags": []
   },
   "outputs": [
    {
     "data": {
      "text/plain": [
       "array([8], dtype=int64)"
      ]
     },
     "execution_count": 21,
     "metadata": {},
     "output_type": "execute_result"
    }
   ],
   "source": [
    "train['MasVnrType'].isna().sum()[train['MasVnrType'].isna().sum()>0]"
   ]
  },
  {
   "cell_type": "code",
   "execution_count": 22,
   "id": "d1f51d5f-6dc4-46af-8ad5-b2364309375a",
   "metadata": {
    "tags": []
   },
   "outputs": [
    {
     "data": {
      "text/plain": [
       "None       864\n",
       "BrkFace    445\n",
       "Stone      128\n",
       "BrkCmn      15\n",
       "Name: MasVnrType, dtype: int64"
      ]
     },
     "execution_count": 22,
     "metadata": {},
     "output_type": "execute_result"
    }
   ],
   "source": [
    "train['MasVnrType'].value_counts()"
   ]
  },
  {
   "cell_type": "code",
   "execution_count": 23,
   "id": "314cf2bf-62b9-4602-bd6e-1ce13195003e",
   "metadata": {
    "tags": []
   },
   "outputs": [
    {
     "data": {
      "text/plain": [
       "'None'"
      ]
     },
     "execution_count": 23,
     "metadata": {},
     "output_type": "execute_result"
    }
   ],
   "source": [
    "train['MasVnrType'].mode()[0]"
   ]
  },
  {
   "cell_type": "code",
   "execution_count": 24,
   "id": "9f0d2c27-67eb-41f2-9c7e-36bf1ce11c3d",
   "metadata": {
    "tags": []
   },
   "outputs": [],
   "source": [
    "train[\"MasVnrType\"] = train[\"MasVnrType\"].fillna(train['MasVnrType'].mode()[0])"
   ]
  },
  {
   "cell_type": "markdown",
   "id": "c995fc75-ebe0-4a22-81a5-c81d78d1c444",
   "metadata": {},
   "source": [
    "#### test"
   ]
  },
  {
   "cell_type": "code",
   "execution_count": 25,
   "id": "e42f825c-4c2d-4c92-bfc0-8f6d4ba31d24",
   "metadata": {
    "tags": []
   },
   "outputs": [
    {
     "data": {
      "text/plain": [
       "16"
      ]
     },
     "execution_count": 25,
     "metadata": {},
     "output_type": "execute_result"
    }
   ],
   "source": [
    "test['MasVnrType'].isna().sum()"
   ]
  },
  {
   "cell_type": "code",
   "execution_count": 26,
   "id": "7c461397-1629-45e5-98d8-065d216bad08",
   "metadata": {
    "tags": []
   },
   "outputs": [
    {
     "data": {
      "text/plain": [
       "None       878\n",
       "BrkFace    434\n",
       "Stone      121\n",
       "BrkCmn      10\n",
       "Name: MasVnrType, dtype: int64"
      ]
     },
     "execution_count": 26,
     "metadata": {},
     "output_type": "execute_result"
    }
   ],
   "source": [
    "test['MasVnrType'].value_counts()"
   ]
  },
  {
   "cell_type": "code",
   "execution_count": 27,
   "id": "5276ac9f-6aa7-4763-90d4-828b6b380b72",
   "metadata": {
    "tags": []
   },
   "outputs": [],
   "source": [
    "test[\"MasVnrType\"] = test[\"MasVnrType\"].fillna(test['MasVnrType'].mode()[0])"
   ]
  },
  {
   "cell_type": "markdown",
   "id": "8f01826a-8cf9-4e9d-96f4-96ed6bffde87",
   "metadata": {},
   "source": [
    "### MasVnrArea\n",
    "- 벽돌 베니어 영역\n",
    "- 결측치는 0으로 채움"
   ]
  },
  {
   "cell_type": "code",
   "execution_count": 28,
   "id": "8b0d6c79-8a89-4b3f-9e0b-4e8841ec874d",
   "metadata": {
    "tags": []
   },
   "outputs": [
    {
     "data": {
      "text/plain": [
       "(8, 79)"
      ]
     },
     "execution_count": 28,
     "metadata": {},
     "output_type": "execute_result"
    }
   ],
   "source": [
    "train[train['MasVnrArea'].isna()].shape"
   ]
  },
  {
   "cell_type": "code",
   "execution_count": 29,
   "id": "0e153cc6-bd15-4895-aaa7-79de56e18f48",
   "metadata": {
    "tags": []
   },
   "outputs": [],
   "source": [
    "train['MasVnrArea'] = train['MasVnrArea'].fillna(0)"
   ]
  },
  {
   "cell_type": "markdown",
   "id": "cf27f819-17a6-4207-af4b-386c6f59e653",
   "metadata": {},
   "source": [
    "### BsmtQual , BsmtCond    : 37개 결측 -> 0처리\n",
    "- BsmtQual : 지하실 높이\n",
    "    Ex  Excellent (100+ inches)  -> 5\n",
    "    Gd\tGood (90-99 inches)      -> 4\n",
    "    TA\tTypical (80-89 inches)   -> 3\n",
    "    Fa\tFair (70-79 inches)      -> 2\n",
    "    Po\tPoor (<70 inches         -> 1\n",
    "    NA\tNo Basement              -> 0\n",
    "\n",
    "- BsmtCond: 지하실 상태평가\n",
    "    Ex\tExcellent   ->5\n",
    "    Gd\tGood        -> 4\n",
    "    TA\tTypical - slight dampness allowed     ->3\n",
    "    Fa\tFair - dampness or some cracking or settling    -> 2\n",
    "    Po\tPoor - Severe cracking, settling, or wetness    -> 1\n",
    "    NA\tNo Basement                                     -> 0"
   ]
  },
  {
   "cell_type": "code",
   "execution_count": 30,
   "id": "17b8b31a-6670-4396-af17-9a5dcad01349",
   "metadata": {
    "tags": []
   },
   "outputs": [
    {
     "data": {
      "text/plain": [
       "TA    649\n",
       "Gd    618\n",
       "Ex    121\n",
       "Fa     35\n",
       "Name: BsmtQual, dtype: int64"
      ]
     },
     "execution_count": 30,
     "metadata": {},
     "output_type": "execute_result"
    }
   ],
   "source": [
    "train['BsmtQual'].value_counts()"
   ]
  },
  {
   "cell_type": "code",
   "execution_count": 31,
   "id": "4c0444c4-0bc1-49e7-8a79-fc9e0897c0ca",
   "metadata": {
    "tags": []
   },
   "outputs": [
    {
     "data": {
      "text/plain": [
       "TA    1311\n",
       "Gd      65\n",
       "Fa      45\n",
       "Po       2\n",
       "Name: BsmtCond, dtype: int64"
      ]
     },
     "execution_count": 31,
     "metadata": {},
     "output_type": "execute_result"
    }
   ],
   "source": [
    "train['BsmtCond'].value_counts()"
   ]
  },
  {
   "cell_type": "code",
   "execution_count": 32,
   "id": "d07261c9-87d5-4796-9522-885474eef5ed",
   "metadata": {
    "tags": []
   },
   "outputs": [
    {
     "data": {
      "text/plain": [
       "37"
      ]
     },
     "execution_count": 32,
     "metadata": {},
     "output_type": "execute_result"
    }
   ],
   "source": [
    "train['BsmtCond'].isna().sum()"
   ]
  },
  {
   "cell_type": "code",
   "execution_count": 33,
   "id": "03cb3747-7414-4347-8555-8d40a5d698c9",
   "metadata": {
    "tags": []
   },
   "outputs": [
    {
     "data": {
      "text/plain": [
       "(37, 79)"
      ]
     },
     "execution_count": 33,
     "metadata": {},
     "output_type": "execute_result"
    }
   ],
   "source": [
    "train[(train['BsmtCond'].isna())&(train['BsmtQual'].isna())].shape"
   ]
  },
  {
   "cell_type": "code",
   "execution_count": 34,
   "id": "d84159e6-0ab2-4fe7-ac63-959c60450108",
   "metadata": {
    "tags": []
   },
   "outputs": [],
   "source": [
    "val_dic={'Ex':5, 'Gd':4 ,'TA':3,'Fa':2,'Po':1,'NA':0}\n",
    "train['BsmtQual']=train['BsmtQual'].replace(val_dic)\n",
    "train['BsmtCond']=train['BsmtCond'].replace(val_dic)\n",
    "train['BsmtQual'] = train['BsmtQual'].fillna(0)\n",
    "train['BsmtCond'] = train['BsmtCond'].fillna(0)"
   ]
  },
  {
   "cell_type": "markdown",
   "id": "0f0b5066-69ce-4705-9475-d31b3f76e9eb",
   "metadata": {},
   "source": [
    "#### test"
   ]
  },
  {
   "cell_type": "code",
   "execution_count": 35,
   "id": "460393e5-5a4d-4a8e-84af-16873912b4e3",
   "metadata": {
    "tags": []
   },
   "outputs": [
    {
     "data": {
      "text/plain": [
       "BsmtQual    44\n",
       "BsmtCond    45\n",
       "dtype: int64"
      ]
     },
     "execution_count": 35,
     "metadata": {},
     "output_type": "execute_result"
    }
   ],
   "source": [
    "test[['BsmtQual','BsmtCond']].isna().sum()"
   ]
  },
  {
   "cell_type": "code",
   "execution_count": 36,
   "id": "3ae5f4cf-2596-46cb-8a4a-41d984fd1174",
   "metadata": {
    "tags": []
   },
   "outputs": [],
   "source": [
    "val_dic={'Ex':5, 'Gd':4 ,'TA':3,'Fa':2,'Po':1,'NA':0}\n",
    "test['BsmtQual']=test['BsmtQual'].replace(val_dic)\n",
    "test['BsmtCond']=test['BsmtCond'].replace(val_dic)\n",
    "test[['BsmtQual','BsmtCond']] = test[['BsmtQual','BsmtCond']].fillna(0)"
   ]
  },
  {
   "cell_type": "markdown",
   "id": "fc77f8dd-0c1d-4b06-b0a7-f0e30688d7e4",
   "metadata": {},
   "source": [
    "### BsmtExposure\n",
    "- 지하실에서 밖으로 나가는 문이 있는지 혹은 벽 높이가 정원 수준인지\n",
    "\n",
    "       Gd\tGood Exposure  ->4\n",
    "       Av\tAverage Exposure (split levels or foyers typically score average or above)  ->3\n",
    "       Mn\tMimimum Exposure  ->2\n",
    "       No\tNo Exposure  -> 1   (1개)\n",
    "       NA\tNo Basement  -> 0  (37개)"
   ]
  },
  {
   "cell_type": "code",
   "execution_count": 37,
   "id": "76803bc5-dca8-4521-9381-e44b43250010",
   "metadata": {
    "tags": []
   },
   "outputs": [
    {
     "data": {
      "text/plain": [
       "(37, 79)"
      ]
     },
     "execution_count": 37,
     "metadata": {},
     "output_type": "execute_result"
    }
   ],
   "source": [
    "train[(train['BsmtExposure'].isna())&(train['BsmtQual']==0)].shape  # -> Na "
   ]
  },
  {
   "cell_type": "code",
   "execution_count": 38,
   "id": "174af925-9a79-463f-a1ab-b543f2da6ffa",
   "metadata": {
    "tags": []
   },
   "outputs": [
    {
     "data": {
      "text/plain": [
       "38"
      ]
     },
     "execution_count": 38,
     "metadata": {},
     "output_type": "execute_result"
    }
   ],
   "source": [
    "train['BsmtExposure'].isna().sum()"
   ]
  },
  {
   "cell_type": "code",
   "execution_count": 39,
   "id": "7739212a-f4c7-4d56-bdb7-d3894b79c6be",
   "metadata": {
    "tags": []
   },
   "outputs": [
    {
     "data": {
      "text/plain": [
       "948"
      ]
     },
     "execution_count": 39,
     "metadata": {},
     "output_type": "execute_result"
    }
   ],
   "source": [
    "train[(train['BsmtExposure'].isna())&(train['BsmtQual']!=0)].index[0] # -> 최빈값(No로 채워줌)"
   ]
  },
  {
   "cell_type": "code",
   "execution_count": 40,
   "id": "4d6b8381-e10d-436a-85db-9e2bf8ea18d4",
   "metadata": {
    "tags": []
   },
   "outputs": [],
   "source": [
    "train.loc[948,'BsmtExposure']='No'"
   ]
  },
  {
   "cell_type": "code",
   "execution_count": 41,
   "id": "17953c52-cbf1-4d26-91c8-3cddeedc55ec",
   "metadata": {
    "tags": []
   },
   "outputs": [
    {
     "data": {
      "text/plain": [
       "No    954\n",
       "Av    221\n",
       "Gd    134\n",
       "Mn    114\n",
       "Name: BsmtExposure, dtype: int64"
      ]
     },
     "execution_count": 41,
     "metadata": {},
     "output_type": "execute_result"
    }
   ],
   "source": [
    "train['BsmtExposure'].value_counts()"
   ]
  },
  {
   "cell_type": "code",
   "execution_count": 42,
   "id": "51453e80-86d2-454b-aeef-5a6afa09c994",
   "metadata": {},
   "outputs": [
    {
     "data": {
      "image/png": "[encoded data removed]",
      "text/plain": [
       "<Figure size 640x480 with 1 Axes>"
      ]
     },
     "metadata": {},
     "output_type": "display_data"
    }
   ],
   "source": [
    "sns.barplot(x = train['BsmtExposure'], y=train['SalePrice'])\n",
    "plt.show()"
   ]
  },
  {
   "cell_type": "code",
   "execution_count": 43,
   "id": "744b8a09-b44f-4550-be9e-5485ba4e02e7",
   "metadata": {
    "tags": []
   },
   "outputs": [],
   "source": [
    "exposure_dic={'Gd':4 ,'Av':3 ,'Mn':2,'No':1} #  NA -> 0  (37개)\n",
    "train['BsmtExposure'].replace(exposure_dic,inplace=True)\n",
    "train['BsmtExposure'].fillna(0,inplace=True)"
   ]
  },
  {
   "cell_type": "code",
   "execution_count": 44,
   "id": "01ddbb97-73bf-4017-ad0f-353d2cd32843",
   "metadata": {
    "tags": []
   },
   "outputs": [
    {
     "data": {
      "text/plain": [
       "1.0    954\n",
       "3.0    221\n",
       "4.0    134\n",
       "2.0    114\n",
       "0.0     37\n",
       "Name: BsmtExposure, dtype: int64"
      ]
     },
     "execution_count": 44,
     "metadata": {},
     "output_type": "execute_result"
    }
   ],
   "source": [
    "train['BsmtExposure'].value_counts()"
   ]
  },
  {
   "cell_type": "code",
   "execution_count": 45,
   "id": "0cb14584-ed9c-44d9-bab5-90c3a3c32b2d",
   "metadata": {
    "tags": []
   },
   "outputs": [
    {
     "data": {
      "text/plain": [
       "0"
      ]
     },
     "execution_count": 45,
     "metadata": {},
     "output_type": "execute_result"
    }
   ],
   "source": [
    "train['BsmtExposure'].isna().sum()"
   ]
  },
  {
   "cell_type": "markdown",
   "id": "4c49c72c-dd8c-4b54-9854-47a353e0fe05",
   "metadata": {},
   "source": [
    "#### test"
   ]
  },
  {
   "cell_type": "code",
   "execution_count": 46,
   "id": "e7dd5fd2-3328-4940-8de1-36c616947bbf",
   "metadata": {
    "tags": []
   },
   "outputs": [
    {
     "data": {
      "text/plain": [
       "No    951\n",
       "Av    197\n",
       "Gd    142\n",
       "Mn    125\n",
       "Name: BsmtExposure, dtype: int64"
      ]
     },
     "execution_count": 46,
     "metadata": {},
     "output_type": "execute_result"
    }
   ],
   "source": [
    "test['BsmtExposure'].value_counts()"
   ]
  },
  {
   "cell_type": "code",
   "execution_count": 47,
   "id": "d87c45dd-19ea-4253-89c1-10222c8bea1d",
   "metadata": {
    "tags": []
   },
   "outputs": [],
   "source": [
    "exposure_dic={'Gd':4 ,'Av':3 ,'Mn':2,'No':1}\n",
    "test['BsmtExposure'].replace(exposure_dic,inplace=True)\n",
    "test['BsmtExposure'].fillna(0,inplace=True)"
   ]
  },
  {
   "cell_type": "code",
   "execution_count": 48,
   "id": "ec59bdb5-6231-42b6-a979-a72246887108",
   "metadata": {
    "tags": []
   },
   "outputs": [
    {
     "data": {
      "text/plain": [
       "0"
      ]
     },
     "execution_count": 48,
     "metadata": {},
     "output_type": "execute_result"
    }
   ],
   "source": [
    "test['BsmtExposure'].isna().sum()"
   ]
  },
  {
   "cell_type": "markdown",
   "id": "638a9523-4930-49bf-a121-da8bdf942493",
   "metadata": {},
   "source": [
    "### BsmtFinType1\n",
    "- 지하실 마감 등급\n",
    "       GLQ\tGood Living Quarters  6\n",
    "       ALQ\tAverage Living Quarters   5\n",
    "       BLQ\tBelow Average Living Quarters\t    4\n",
    "       Rec\tAverage Rec Room    3\n",
    "       LwQ\tLow Quality    2 \n",
    "       Unf\tUnfinshed     1\n",
    "       NA\tNo Basement      0"
   ]
  },
  {
   "cell_type": "code",
   "execution_count": 49,
   "id": "30ab64d7-0310-47b7-95dc-a3732c2166e5",
   "metadata": {
    "tags": []
   },
   "outputs": [
    {
     "data": {
      "text/plain": [
       "Unf    430\n",
       "GLQ    418\n",
       "ALQ    220\n",
       "BLQ    148\n",
       "Rec    133\n",
       "LwQ     74\n",
       "Name: BsmtFinType1, dtype: int64"
      ]
     },
     "execution_count": 49,
     "metadata": {},
     "output_type": "execute_result"
    }
   ],
   "source": [
    "train['BsmtFinType1'].value_counts()"
   ]
  },
  {
   "cell_type": "code",
   "execution_count": 50,
   "id": "acc90955-7ada-4f8b-8434-7a963b868a6b",
   "metadata": {
    "tags": []
   },
   "outputs": [
    {
     "data": {
      "text/plain": [
       "37"
      ]
     },
     "execution_count": 50,
     "metadata": {},
     "output_type": "execute_result"
    }
   ],
   "source": [
    "train['BsmtFinType1'].isna().sum()"
   ]
  },
  {
   "cell_type": "code",
   "execution_count": 51,
   "id": "605db997-2f56-4a29-a0e6-7ffd67e45751",
   "metadata": {
    "tags": []
   },
   "outputs": [],
   "source": [
    "dic ={'GLQ':6,'ALQ':5,'BLQ':4,'Rec':3,'LwQ':2,'Unf':1}\n",
    "train['BsmtFinType1'].replace(dic,inplace=True)\n",
    "train['BsmtFinType1'].fillna(0,inplace = True)"
   ]
  },
  {
   "cell_type": "code",
   "execution_count": 52,
   "id": "40a6b376-2d64-4ea2-89da-d050ab25c8ff",
   "metadata": {
    "tags": []
   },
   "outputs": [
    {
     "data": {
      "image/png": "[encoded data removed]",
      "text/plain": [
       "<Figure size 640x480 with 1 Axes>"
      ]
     },
     "metadata": {},
     "output_type": "display_data"
    }
   ],
   "source": [
    "sns.scatterplot(x = train['BsmtFinType1'], y=train['SalePrice'])\n",
    "plt.show()"
   ]
  },
  {
   "cell_type": "markdown",
   "id": "27f92c53-2124-4e94-bc31-6128443d180c",
   "metadata": {},
   "source": [
    "#### test"
   ]
  },
  {
   "cell_type": "code",
   "execution_count": 53,
   "id": "3ecd41c1-d099-4f9b-9060-4095d5b155cc",
   "metadata": {
    "tags": []
   },
   "outputs": [
    {
     "data": {
      "text/plain": [
       "42"
      ]
     },
     "execution_count": 53,
     "metadata": {},
     "output_type": "execute_result"
    }
   ],
   "source": [
    "test['BsmtFinType1'].isna().sum()"
   ]
  },
  {
   "cell_type": "code",
   "execution_count": 54,
   "id": "b5eb3eef-2372-492e-8494-6aff294fa73b",
   "metadata": {
    "tags": []
   },
   "outputs": [],
   "source": [
    "dic ={'GLQ':6,'ALQ':5,'BLQ':4,'Rec':3,'LwQ':2,'Unf':1}\n",
    "test['BsmtFinType1'].replace(dic,inplace=True)\n",
    "test['BsmtFinType1'].fillna(0,inplace = True)"
   ]
  },
  {
   "cell_type": "markdown",
   "id": "1104b7a3-844f-4006-b4fe-f06aabb76a0d",
   "metadata": {},
   "source": [
    "### BsmtFinType2\n",
    "- 지하실 마감등급 다중\n",
    "       GLQ\tGood Living Quarters  6\n",
    "       ALQ\tAverage Living Quarters   5\n",
    "       BLQ\tBelow Average Living Quarters\t    4\n",
    "       Rec\tAverage Rec Room    3\n",
    "       LwQ\tLow Quality    2 \n",
    "       Unf\tUnfinshed     1\n",
    "       NA\tNo Basement      0"
   ]
  },
  {
   "cell_type": "code",
   "execution_count": 55,
   "id": "d54facc0-b303-4d45-9c1b-f44ad28c07e1",
   "metadata": {
    "tags": []
   },
   "outputs": [
    {
     "data": {
      "text/plain": [
       "Unf    1256\n",
       "Rec      54\n",
       "LwQ      46\n",
       "BLQ      33\n",
       "ALQ      19\n",
       "GLQ      14\n",
       "Name: BsmtFinType2, dtype: int64"
      ]
     },
     "execution_count": 55,
     "metadata": {},
     "output_type": "execute_result"
    }
   ],
   "source": [
    "train['BsmtFinType2'].value_counts()"
   ]
  },
  {
   "cell_type": "code",
   "execution_count": 56,
   "id": "7effabe2-d34c-4fc4-8642-c1863361ede0",
   "metadata": {
    "tags": []
   },
   "outputs": [
    {
     "data": {
      "text/plain": [
       "38"
      ]
     },
     "execution_count": 56,
     "metadata": {},
     "output_type": "execute_result"
    }
   ],
   "source": [
    "train['BsmtFinType2'].isna().sum()"
   ]
  },
  {
   "cell_type": "code",
   "execution_count": 57,
   "id": "6025aaf4-e987-4d67-abe6-da8ed4eadc06",
   "metadata": {
    "tags": []
   },
   "outputs": [
    {
     "data": {
      "text/html": [
       "<div>\n",
       "<style scoped>\n",
       "    .dataframe tbody tr th:only-of-type {\n",
       "        vertical-align: middle;\n",
       "    }\n",
       "\n",
       "    .dataframe tbody tr th {\n",
       "        vertical-align: top;\n",
       "    }\n",
       "\n",
       "    .dataframe thead th {\n",
       "        text-align: right;\n",
       "    }\n",
       "</style>\n",
       "<table border=\"1\" class=\"dataframe\">\n",
       "  <thead>\n",
       "    <tr style=\"text-align: right;\">\n",
       "      <th></th>\n",
       "      <th>MSSubClass</th>\n",
       "      <th>MSZoning</th>\n",
       "      <th>LotFrontage</th>\n",
       "      <th>LotArea</th>\n",
       "      <th>Street</th>\n",
       "      <th>LotShape</th>\n",
       "      <th>LandContour</th>\n",
       "      <th>Utilities</th>\n",
       "      <th>LotConfig</th>\n",
       "      <th>LandSlope</th>\n",
       "      <th>Neighborhood</th>\n",
       "      <th>Condition1</th>\n",
       "      <th>Condition2</th>\n",
       "      <th>BldgType</th>\n",
       "      <th>HouseStyle</th>\n",
       "      <th>OverallQual</th>\n",
       "      <th>OverallCond</th>\n",
       "      <th>YearBuilt</th>\n",
       "      <th>YearRemodAdd</th>\n",
       "      <th>RoofStyle</th>\n",
       "      <th>RoofMatl</th>\n",
       "      <th>Exterior1st</th>\n",
       "      <th>Exterior2nd</th>\n",
       "      <th>MasVnrType</th>\n",
       "      <th>MasVnrArea</th>\n",
       "      <th>ExterQual</th>\n",
       "      <th>ExterCond</th>\n",
       "      <th>Foundation</th>\n",
       "      <th>BsmtQual</th>\n",
       "      <th>BsmtCond</th>\n",
       "      <th>BsmtExposure</th>\n",
       "      <th>BsmtFinType1</th>\n",
       "      <th>BsmtFinSF1</th>\n",
       "      <th>BsmtFinType2</th>\n",
       "      <th>BsmtFinSF2</th>\n",
       "      <th>BsmtUnfSF</th>\n",
       "      <th>TotalBsmtSF</th>\n",
       "      <th>Heating</th>\n",
       "      <th>HeatingQC</th>\n",
       "      <th>CentralAir</th>\n",
       "      <th>Electrical</th>\n",
       "      <th>1stFlrSF</th>\n",
       "      <th>2ndFlrSF</th>\n",
       "      <th>LowQualFinSF</th>\n",
       "      <th>GrLivArea</th>\n",
       "      <th>BsmtFullBath</th>\n",
       "      <th>BsmtHalfBath</th>\n",
       "      <th>FullBath</th>\n",
       "      <th>HalfBath</th>\n",
       "      <th>BedroomAbvGr</th>\n",
       "      <th>KitchenAbvGr</th>\n",
       "      <th>KitchenQual</th>\n",
       "      <th>TotRmsAbvGrd</th>\n",
       "      <th>Functional</th>\n",
       "      <th>Fireplaces</th>\n",
       "      <th>FireplaceQu</th>\n",
       "      <th>GarageType</th>\n",
       "      <th>GarageYrBlt</th>\n",
       "      <th>GarageFinish</th>\n",
       "      <th>GarageCars</th>\n",
       "      <th>GarageArea</th>\n",
       "      <th>GarageQual</th>\n",
       "      <th>GarageCond</th>\n",
       "      <th>PavedDrive</th>\n",
       "      <th>WoodDeckSF</th>\n",
       "      <th>OpenPorchSF</th>\n",
       "      <th>EnclosedPorch</th>\n",
       "      <th>3SsnPorch</th>\n",
       "      <th>ScreenPorch</th>\n",
       "      <th>PoolArea</th>\n",
       "      <th>PoolQC</th>\n",
       "      <th>Fence</th>\n",
       "      <th>MiscFeature</th>\n",
       "      <th>MiscVal</th>\n",
       "      <th>MoSold</th>\n",
       "      <th>YrSold</th>\n",
       "      <th>SaleType</th>\n",
       "      <th>SaleCondition</th>\n",
       "      <th>SalePrice</th>\n",
       "    </tr>\n",
       "  </thead>\n",
       "  <tbody>\n",
       "    <tr>\n",
       "      <th>332</th>\n",
       "      <td>20</td>\n",
       "      <td>RL</td>\n",
       "      <td>85.0</td>\n",
       "      <td>10655</td>\n",
       "      <td>1</td>\n",
       "      <td>IR1</td>\n",
       "      <td>Lvl</td>\n",
       "      <td>AllPub</td>\n",
       "      <td>Inside</td>\n",
       "      <td>Gtl</td>\n",
       "      <td>NridgHt</td>\n",
       "      <td>Norm</td>\n",
       "      <td>Norm</td>\n",
       "      <td>1Fam</td>\n",
       "      <td>1Story</td>\n",
       "      <td>8</td>\n",
       "      <td>5</td>\n",
       "      <td>2003</td>\n",
       "      <td>2004</td>\n",
       "      <td>Gable</td>\n",
       "      <td>CompShg</td>\n",
       "      <td>VinylSd</td>\n",
       "      <td>VinylSd</td>\n",
       "      <td>BrkFace</td>\n",
       "      <td>296.0</td>\n",
       "      <td>Gd</td>\n",
       "      <td>TA</td>\n",
       "      <td>PConc</td>\n",
       "      <td>4.0</td>\n",
       "      <td>3.0</td>\n",
       "      <td>1.0</td>\n",
       "      <td>6.0</td>\n",
       "      <td>1124</td>\n",
       "      <td>NaN</td>\n",
       "      <td>479</td>\n",
       "      <td>1603</td>\n",
       "      <td>3206</td>\n",
       "      <td>GasA</td>\n",
       "      <td>Ex</td>\n",
       "      <td>Y</td>\n",
       "      <td>SBrkr</td>\n",
       "      <td>1629</td>\n",
       "      <td>0</td>\n",
       "      <td>0</td>\n",
       "      <td>1629</td>\n",
       "      <td>1</td>\n",
       "      <td>0</td>\n",
       "      <td>2</td>\n",
       "      <td>0</td>\n",
       "      <td>3</td>\n",
       "      <td>1</td>\n",
       "      <td>Gd</td>\n",
       "      <td>7</td>\n",
       "      <td>Typ</td>\n",
       "      <td>1</td>\n",
       "      <td>Gd</td>\n",
       "      <td>Attchd</td>\n",
       "      <td>2003.0</td>\n",
       "      <td>RFn</td>\n",
       "      <td>3</td>\n",
       "      <td>880</td>\n",
       "      <td>TA</td>\n",
       "      <td>TA</td>\n",
       "      <td>Y</td>\n",
       "      <td>0</td>\n",
       "      <td>0</td>\n",
       "      <td>0</td>\n",
       "      <td>0</td>\n",
       "      <td>0</td>\n",
       "      <td>0</td>\n",
       "      <td>NaN</td>\n",
       "      <td>NaN</td>\n",
       "      <td>NaN</td>\n",
       "      <td>0</td>\n",
       "      <td>10</td>\n",
       "      <td>2009</td>\n",
       "      <td>WD</td>\n",
       "      <td>Normal</td>\n",
       "      <td>284000</td>\n",
       "    </tr>\n",
       "  </tbody>\n",
       "</table>\n",
       "</div>"
      ],
      "text/plain": [
       "     MSSubClass MSZoning  LotFrontage  LotArea  Street LotShape LandContour  \\\n",
       "332          20       RL         85.0    10655       1      IR1         Lvl   \n",
       "\n",
       "    Utilities LotConfig LandSlope Neighborhood Condition1 Condition2 BldgType  \\\n",
       "332    AllPub    Inside       Gtl      NridgHt       Norm       Norm     1Fam   \n",
       "\n",
       "    HouseStyle  OverallQual  OverallCond  YearBuilt  YearRemodAdd RoofStyle  \\\n",
       "332     1Story            8            5       2003          2004     Gable   \n",
       "\n",
       "    RoofMatl Exterior1st Exterior2nd MasVnrType  MasVnrArea ExterQual  \\\n",
       "332  CompShg     VinylSd     VinylSd    BrkFace       296.0        Gd   \n",
       "\n",
       "    ExterCond Foundation  BsmtQual  BsmtCond  BsmtExposure  BsmtFinType1  \\\n",
       "332        TA      PConc       4.0       3.0           1.0           6.0   \n",
       "\n",
       "     BsmtFinSF1 BsmtFinType2  BsmtFinSF2  BsmtUnfSF  TotalBsmtSF Heating  \\\n",
       "332        1124          NaN         479       1603         3206    GasA   \n",
       "\n",
       "    HeatingQC CentralAir Electrical  1stFlrSF  2ndFlrSF  LowQualFinSF  \\\n",
       "332        Ex          Y      SBrkr      1629         0             0   \n",
       "\n",
       "     GrLivArea  BsmtFullBath  BsmtHalfBath  FullBath  HalfBath  BedroomAbvGr  \\\n",
       "332       1629             1             0         2         0             3   \n",
       "\n",
       "     KitchenAbvGr KitchenQual  TotRmsAbvGrd Functional  Fireplaces  \\\n",
       "332             1          Gd             7        Typ           1   \n",
       "\n",
       "    FireplaceQu GarageType  GarageYrBlt GarageFinish  GarageCars  GarageArea  \\\n",
       "332          Gd     Attchd       2003.0          RFn           3         880   \n",
       "\n",
       "    GarageQual GarageCond PavedDrive  WoodDeckSF  OpenPorchSF  EnclosedPorch  \\\n",
       "332         TA         TA          Y           0            0              0   \n",
       "\n",
       "     3SsnPorch  ScreenPorch  PoolArea PoolQC Fence MiscFeature  MiscVal  \\\n",
       "332          0            0         0    NaN   NaN         NaN        0   \n",
       "\n",
       "     MoSold  YrSold SaleType SaleCondition  SalePrice  \n",
       "332      10    2009       WD        Normal     284000  "
      ]
     },
     "execution_count": 57,
     "metadata": {},
     "output_type": "execute_result"
    }
   ],
   "source": [
    "train[(train['BsmtFinType2'].isna())&(train['BsmtFinType1']!=0)]  \n",
    "# 지하실 BsmtFinType1는 있고 2는 없음(즉 마감이 하나) -> 0처리"
   ]
  },
  {
   "cell_type": "code",
   "execution_count": 58,
   "id": "a68c1473-01a7-41b1-912d-7cd645e8a233",
   "metadata": {
    "tags": []
   },
   "outputs": [],
   "source": [
    "dic ={'GLQ':6,'ALQ':5,'BLQ':4,'Rec':3,'LwQ':2,'Unf':1}\n",
    "train['BsmtFinType2'].replace(dic,inplace=True)\n",
    "train['BsmtFinType2'].fillna(0,inplace = True)"
   ]
  },
  {
   "cell_type": "markdown",
   "id": "ac84f755-a68f-4242-92dc-22f5fb3dbb3c",
   "metadata": {},
   "source": [
    "#### test"
   ]
  },
  {
   "cell_type": "code",
   "execution_count": 59,
   "id": "5b714e1c-a1ae-415d-8a8b-84542b5403b4",
   "metadata": {
    "tags": []
   },
   "outputs": [
    {
     "data": {
      "text/plain": [
       "Unf    1237\n",
       "Rec      51\n",
       "LwQ      41\n",
       "BLQ      35\n",
       "ALQ      33\n",
       "GLQ      20\n",
       "Name: BsmtFinType2, dtype: int64"
      ]
     },
     "execution_count": 59,
     "metadata": {},
     "output_type": "execute_result"
    }
   ],
   "source": [
    "test['BsmtFinType2'].value_counts()"
   ]
  },
  {
   "cell_type": "code",
   "execution_count": 60,
   "id": "35efea56-e808-4824-b098-78a715f205ad",
   "metadata": {
    "tags": []
   },
   "outputs": [
    {
     "data": {
      "text/plain": [
       "42"
      ]
     },
     "execution_count": 60,
     "metadata": {},
     "output_type": "execute_result"
    }
   ],
   "source": [
    "test['BsmtFinType2'].isna().sum()"
   ]
  },
  {
   "cell_type": "code",
   "execution_count": 61,
   "id": "d90091af-126f-4148-9d07-0b72674651ab",
   "metadata": {
    "tags": []
   },
   "outputs": [],
   "source": [
    "dic ={'GLQ':6,'ALQ':5,'BLQ':4,'Rec':3,'LwQ':2,'Unf':1}\n",
    "test['BsmtFinType2'].replace(dic,inplace=True)\n",
    "test['BsmtFinType2'].fillna(0,inplace = True)"
   ]
  },
  {
   "cell_type": "markdown",
   "id": "a24ad43d-617d-416e-a4ba-cb2ea00558a6",
   "metadata": {},
   "source": [
    "### Electrical\n",
    "- 전기 시스템\n",
    "    SBrkr\tStandard Circuit Breakers & Romex\n",
    "    FuseA\tFuse Box over 60 AMP and all Romex wiring (Average)\t\n",
    "    FuseF\t60 AMP Fuse Box and mostly Romex wiring (Fair)\n",
    "    FuseP\t60 AMP Fuse Box and mostly knob & tube wiring (poor)\n",
    "    Mix\tMixed\n"
   ]
  },
  {
   "cell_type": "code",
   "execution_count": 62,
   "id": "598c3d5e-008f-4706-a631-9009535e493f",
   "metadata": {
    "tags": []
   },
   "outputs": [
    {
     "data": {
      "text/plain": [
       "SBrkr    1334\n",
       "FuseA      94\n",
       "FuseF      27\n",
       "FuseP       3\n",
       "Mix         1\n",
       "Name: Electrical, dtype: int64"
      ]
     },
     "execution_count": 62,
     "metadata": {},
     "output_type": "execute_result"
    }
   ],
   "source": [
    "train['Electrical'].value_counts()"
   ]
  },
  {
   "cell_type": "code",
   "execution_count": 63,
   "id": "10f268f3-3aa9-4ca3-b012-55b6d028ca2f",
   "metadata": {
    "tags": []
   },
   "outputs": [
    {
     "data": {
      "image/png": "[encoded data removed]",
      "text/plain": [
       "<Figure size 640x480 with 1 Axes>"
      ]
     },
     "metadata": {},
     "output_type": "display_data"
    }
   ],
   "source": [
    "sns.scatterplot(x = train['Electrical'], y=train['SalePrice'])\n",
    "plt.show()"
   ]
  },
  {
   "cell_type": "code",
   "execution_count": 64,
   "id": "38436970-3ad6-4905-af3e-c982941ce714",
   "metadata": {
    "tags": []
   },
   "outputs": [
    {
     "data": {
      "text/html": [
       "<div>\n",
       "<style scoped>\n",
       "    .dataframe tbody tr th:only-of-type {\n",
       "        vertical-align: middle;\n",
       "    }\n",
       "\n",
       "    .dataframe tbody tr th {\n",
       "        vertical-align: top;\n",
       "    }\n",
       "\n",
       "    .dataframe thead th {\n",
       "        text-align: right;\n",
       "    }\n",
       "</style>\n",
       "<table border=\"1\" class=\"dataframe\">\n",
       "  <thead>\n",
       "    <tr style=\"text-align: right;\">\n",
       "      <th></th>\n",
       "      <th>MSSubClass</th>\n",
       "      <th>MSZoning</th>\n",
       "      <th>LotFrontage</th>\n",
       "      <th>LotArea</th>\n",
       "      <th>Street</th>\n",
       "      <th>LotShape</th>\n",
       "      <th>LandContour</th>\n",
       "      <th>Utilities</th>\n",
       "      <th>LotConfig</th>\n",
       "      <th>LandSlope</th>\n",
       "      <th>Neighborhood</th>\n",
       "      <th>Condition1</th>\n",
       "      <th>Condition2</th>\n",
       "      <th>BldgType</th>\n",
       "      <th>HouseStyle</th>\n",
       "      <th>OverallQual</th>\n",
       "      <th>OverallCond</th>\n",
       "      <th>YearBuilt</th>\n",
       "      <th>YearRemodAdd</th>\n",
       "      <th>RoofStyle</th>\n",
       "      <th>RoofMatl</th>\n",
       "      <th>Exterior1st</th>\n",
       "      <th>Exterior2nd</th>\n",
       "      <th>MasVnrType</th>\n",
       "      <th>MasVnrArea</th>\n",
       "      <th>ExterQual</th>\n",
       "      <th>ExterCond</th>\n",
       "      <th>Foundation</th>\n",
       "      <th>BsmtQual</th>\n",
       "      <th>BsmtCond</th>\n",
       "      <th>BsmtExposure</th>\n",
       "      <th>BsmtFinType1</th>\n",
       "      <th>BsmtFinSF1</th>\n",
       "      <th>BsmtFinType2</th>\n",
       "      <th>BsmtFinSF2</th>\n",
       "      <th>BsmtUnfSF</th>\n",
       "      <th>TotalBsmtSF</th>\n",
       "      <th>Heating</th>\n",
       "      <th>HeatingQC</th>\n",
       "      <th>CentralAir</th>\n",
       "      <th>Electrical</th>\n",
       "      <th>1stFlrSF</th>\n",
       "      <th>2ndFlrSF</th>\n",
       "      <th>LowQualFinSF</th>\n",
       "      <th>GrLivArea</th>\n",
       "      <th>BsmtFullBath</th>\n",
       "      <th>BsmtHalfBath</th>\n",
       "      <th>FullBath</th>\n",
       "      <th>HalfBath</th>\n",
       "      <th>BedroomAbvGr</th>\n",
       "      <th>KitchenAbvGr</th>\n",
       "      <th>KitchenQual</th>\n",
       "      <th>TotRmsAbvGrd</th>\n",
       "      <th>Functional</th>\n",
       "      <th>Fireplaces</th>\n",
       "      <th>FireplaceQu</th>\n",
       "      <th>GarageType</th>\n",
       "      <th>GarageYrBlt</th>\n",
       "      <th>GarageFinish</th>\n",
       "      <th>GarageCars</th>\n",
       "      <th>GarageArea</th>\n",
       "      <th>GarageQual</th>\n",
       "      <th>GarageCond</th>\n",
       "      <th>PavedDrive</th>\n",
       "      <th>WoodDeckSF</th>\n",
       "      <th>OpenPorchSF</th>\n",
       "      <th>EnclosedPorch</th>\n",
       "      <th>3SsnPorch</th>\n",
       "      <th>ScreenPorch</th>\n",
       "      <th>PoolArea</th>\n",
       "      <th>PoolQC</th>\n",
       "      <th>Fence</th>\n",
       "      <th>MiscFeature</th>\n",
       "      <th>MiscVal</th>\n",
       "      <th>MoSold</th>\n",
       "      <th>YrSold</th>\n",
       "      <th>SaleType</th>\n",
       "      <th>SaleCondition</th>\n",
       "      <th>SalePrice</th>\n",
       "    </tr>\n",
       "  </thead>\n",
       "  <tbody>\n",
       "    <tr>\n",
       "      <th>1379</th>\n",
       "      <td>80</td>\n",
       "      <td>RL</td>\n",
       "      <td>73.0</td>\n",
       "      <td>9735</td>\n",
       "      <td>1</td>\n",
       "      <td>Reg</td>\n",
       "      <td>Lvl</td>\n",
       "      <td>AllPub</td>\n",
       "      <td>Inside</td>\n",
       "      <td>Gtl</td>\n",
       "      <td>Timber</td>\n",
       "      <td>Norm</td>\n",
       "      <td>Norm</td>\n",
       "      <td>1Fam</td>\n",
       "      <td>SLvl</td>\n",
       "      <td>5</td>\n",
       "      <td>5</td>\n",
       "      <td>2006</td>\n",
       "      <td>2007</td>\n",
       "      <td>Gable</td>\n",
       "      <td>CompShg</td>\n",
       "      <td>VinylSd</td>\n",
       "      <td>VinylSd</td>\n",
       "      <td>None</td>\n",
       "      <td>0.0</td>\n",
       "      <td>TA</td>\n",
       "      <td>TA</td>\n",
       "      <td>PConc</td>\n",
       "      <td>4.0</td>\n",
       "      <td>3.0</td>\n",
       "      <td>1.0</td>\n",
       "      <td>1.0</td>\n",
       "      <td>0</td>\n",
       "      <td>1.0</td>\n",
       "      <td>0</td>\n",
       "      <td>384</td>\n",
       "      <td>384</td>\n",
       "      <td>GasA</td>\n",
       "      <td>Gd</td>\n",
       "      <td>Y</td>\n",
       "      <td>NaN</td>\n",
       "      <td>754</td>\n",
       "      <td>640</td>\n",
       "      <td>0</td>\n",
       "      <td>1394</td>\n",
       "      <td>0</td>\n",
       "      <td>0</td>\n",
       "      <td>2</td>\n",
       "      <td>1</td>\n",
       "      <td>3</td>\n",
       "      <td>1</td>\n",
       "      <td>Gd</td>\n",
       "      <td>7</td>\n",
       "      <td>Typ</td>\n",
       "      <td>0</td>\n",
       "      <td>NaN</td>\n",
       "      <td>BuiltIn</td>\n",
       "      <td>2007.0</td>\n",
       "      <td>Fin</td>\n",
       "      <td>2</td>\n",
       "      <td>400</td>\n",
       "      <td>TA</td>\n",
       "      <td>TA</td>\n",
       "      <td>Y</td>\n",
       "      <td>100</td>\n",
       "      <td>0</td>\n",
       "      <td>0</td>\n",
       "      <td>0</td>\n",
       "      <td>0</td>\n",
       "      <td>0</td>\n",
       "      <td>NaN</td>\n",
       "      <td>NaN</td>\n",
       "      <td>NaN</td>\n",
       "      <td>0</td>\n",
       "      <td>5</td>\n",
       "      <td>2008</td>\n",
       "      <td>WD</td>\n",
       "      <td>Normal</td>\n",
       "      <td>167500</td>\n",
       "    </tr>\n",
       "  </tbody>\n",
       "</table>\n",
       "</div>"
      ],
      "text/plain": [
       "      MSSubClass MSZoning  LotFrontage  LotArea  Street LotShape LandContour  \\\n",
       "1379          80       RL         73.0     9735       1      Reg         Lvl   \n",
       "\n",
       "     Utilities LotConfig LandSlope Neighborhood Condition1 Condition2  \\\n",
       "1379    AllPub    Inside       Gtl       Timber       Norm       Norm   \n",
       "\n",
       "     BldgType HouseStyle  OverallQual  OverallCond  YearBuilt  YearRemodAdd  \\\n",
       "1379     1Fam       SLvl            5            5       2006          2007   \n",
       "\n",
       "     RoofStyle RoofMatl Exterior1st Exterior2nd MasVnrType  MasVnrArea  \\\n",
       "1379     Gable  CompShg     VinylSd     VinylSd       None         0.0   \n",
       "\n",
       "     ExterQual ExterCond Foundation  BsmtQual  BsmtCond  BsmtExposure  \\\n",
       "1379        TA        TA      PConc       4.0       3.0           1.0   \n",
       "\n",
       "      BsmtFinType1  BsmtFinSF1  BsmtFinType2  BsmtFinSF2  BsmtUnfSF  \\\n",
       "1379           1.0           0           1.0           0        384   \n",
       "\n",
       "      TotalBsmtSF Heating HeatingQC CentralAir Electrical  1stFlrSF  2ndFlrSF  \\\n",
       "1379          384    GasA        Gd          Y        NaN       754       640   \n",
       "\n",
       "      LowQualFinSF  GrLivArea  BsmtFullBath  BsmtHalfBath  FullBath  HalfBath  \\\n",
       "1379             0       1394             0             0         2         1   \n",
       "\n",
       "      BedroomAbvGr  KitchenAbvGr KitchenQual  TotRmsAbvGrd Functional  \\\n",
       "1379             3             1          Gd             7        Typ   \n",
       "\n",
       "      Fireplaces FireplaceQu GarageType  GarageYrBlt GarageFinish  GarageCars  \\\n",
       "1379           0         NaN    BuiltIn       2007.0          Fin           2   \n",
       "\n",
       "      GarageArea GarageQual GarageCond PavedDrive  WoodDeckSF  OpenPorchSF  \\\n",
       "1379         400         TA         TA          Y         100            0   \n",
       "\n",
       "      EnclosedPorch  3SsnPorch  ScreenPorch  PoolArea PoolQC Fence  \\\n",
       "1379              0          0            0         0    NaN   NaN   \n",
       "\n",
       "     MiscFeature  MiscVal  MoSold  YrSold SaleType SaleCondition  SalePrice  \n",
       "1379         NaN        0       5    2008       WD        Normal     167500  "
      ]
     },
     "execution_count": 64,
     "metadata": {},
     "output_type": "execute_result"
    }
   ],
   "source": [
    "train[train['Electrical'].isna()]"
   ]
  },
  {
   "cell_type": "code",
   "execution_count": 65,
   "id": "d2dac35a-6fe3-4626-836e-a3525fa44db4",
   "metadata": {
    "tags": []
   },
   "outputs": [],
   "source": [
    "train['Electrical'] = train['Electrical'].fillna(train['Electrical'].mode().values[0])"
   ]
  },
  {
   "cell_type": "code",
   "execution_count": 66,
   "id": "94b66f44-952e-402d-ba58-490c27b860a6",
   "metadata": {
    "tags": []
   },
   "outputs": [
    {
     "data": {
      "text/plain": [
       "0"
      ]
     },
     "execution_count": 66,
     "metadata": {},
     "output_type": "execute_result"
    }
   ],
   "source": [
    "train['Electrical'].isna().sum()"
   ]
  },
  {
   "cell_type": "markdown",
   "id": "27a4add9-0e50-4eb0-8638-994b2460ca64",
   "metadata": {},
   "source": [
    "#### test"
   ]
  },
  {
   "cell_type": "code",
   "execution_count": 67,
   "id": "093c567b-fc9a-4626-ba95-dff68873948f",
   "metadata": {
    "tags": []
   },
   "outputs": [
    {
     "data": {
      "text/plain": [
       "0"
      ]
     },
     "execution_count": 67,
     "metadata": {},
     "output_type": "execute_result"
    }
   ],
   "source": [
    "test['Electrical'].isna().sum()"
   ]
  },
  {
   "cell_type": "markdown",
   "id": "7ab125f1-b7aa-43c0-814b-51f8e32861ca",
   "metadata": {},
   "source": [
    "### FireplaceQu\n",
    "- 벽난로 상태\n",
    "    Ex\tExcellent - Exceptional Masonry Fireplace   ->5\n",
    "    Gd\tGood - Masonry Fireplace in main level      ->4\n",
    "    TA\tAverage - Prefabricated Fireplace in main living area or Masonry Fireplace in basement   ->3\n",
    "    Fa\tFair - Prefabricated Fireplace in basement     ->2\n",
    "    Po\tPoor - Ben Franklin Stove                      ->1\n",
    "    NA\tNo Fireplace                                   ->0  "
   ]
  },
  {
   "cell_type": "code",
   "execution_count": 68,
   "id": "16ce777f-e6fb-4901-a46e-fbf7f3fac116",
   "metadata": {
    "tags": []
   },
   "outputs": [
    {
     "data": {
      "text/plain": [
       "690"
      ]
     },
     "execution_count": 68,
     "metadata": {},
     "output_type": "execute_result"
    }
   ],
   "source": [
    "train['FireplaceQu'].isna().sum()"
   ]
  },
  {
   "cell_type": "code",
   "execution_count": 69,
   "id": "569ea425-0207-476d-8ec7-4c1dd6a8d850",
   "metadata": {
    "tags": []
   },
   "outputs": [
    {
     "data": {
      "text/plain": [
       "Gd    380\n",
       "TA    313\n",
       "Fa     33\n",
       "Ex     24\n",
       "Po     20\n",
       "Name: FireplaceQu, dtype: int64"
      ]
     },
     "execution_count": 69,
     "metadata": {},
     "output_type": "execute_result"
    }
   ],
   "source": [
    "train['FireplaceQu'].value_counts()"
   ]
  },
  {
   "cell_type": "code",
   "execution_count": 70,
   "id": "ba0556f5-94b5-4de4-bac9-13c28d0fa5d2",
   "metadata": {
    "tags": []
   },
   "outputs": [],
   "source": [
    "val_dic={'Ex':5, 'Gd':4 ,'TA':3,'Fa':2,'Po':1}\n",
    "train['FireplaceQu'].replace(val_dic,inplace=True)\n",
    "train['FireplaceQu'].fillna(0,inplace=True)"
   ]
  },
  {
   "cell_type": "markdown",
   "id": "2ac8702a-fb3e-427a-80e9-b43390709854",
   "metadata": {},
   "source": [
    "#### test"
   ]
  },
  {
   "cell_type": "code",
   "execution_count": 71,
   "id": "ffe4b8e5-22ec-4665-95ea-59b3c2293f99",
   "metadata": {
    "tags": []
   },
   "outputs": [
    {
     "data": {
      "text/plain": [
       "730"
      ]
     },
     "execution_count": 71,
     "metadata": {},
     "output_type": "execute_result"
    }
   ],
   "source": [
    "test['FireplaceQu'].isna().sum()"
   ]
  },
  {
   "cell_type": "code",
   "execution_count": 72,
   "id": "ce8d6a7d-a55a-40e9-a2fd-4addbd3784f2",
   "metadata": {
    "tags": []
   },
   "outputs": [
    {
     "data": {
      "text/plain": [
       "Gd    364\n",
       "TA    279\n",
       "Fa     41\n",
       "Po     26\n",
       "Ex     19\n",
       "Name: FireplaceQu, dtype: int64"
      ]
     },
     "execution_count": 72,
     "metadata": {},
     "output_type": "execute_result"
    }
   ],
   "source": [
    "test['FireplaceQu'].value_counts()"
   ]
  },
  {
   "cell_type": "code",
   "execution_count": 73,
   "id": "5dd232d5-6284-4fec-b66a-b6d2dc87fc1c",
   "metadata": {
    "tags": []
   },
   "outputs": [],
   "source": [
    "val_dic={'Ex':5, 'Gd':4 ,'TA':3,'Fa':2,'Po':1}\n",
    "test['FireplaceQu'].replace(val_dic,inplace=True)\n",
    "test['FireplaceQu'].fillna(0,inplace=True)"
   ]
  },
  {
   "cell_type": "markdown",
   "id": "11e7bb5a-fbfe-4e82-b215-2e57521b415b",
   "metadata": {},
   "source": [
    "### Garage\n",
    "<pre>\n",
    "GarageType        81\n",
    "GarageYrBlt       81\n",
    "GarageFinish      81\n",
    "GarageQual        81\n",
    "GarageCond        81\n",
    "\n",
    "-> 81건은 차고가 없음"
   ]
  },
  {
   "cell_type": "markdown",
   "id": "3791a7cf-9289-4354-9082-0d2c95a05c5e",
   "metadata": {},
   "source": [
    "#### ★파생피쳐: 차고지 유무\n",
    "- 'garage_yn' : 0 없음, 1있음"
   ]
  },
  {
   "cell_type": "code",
   "execution_count": 74,
   "id": "1817c12c-1f04-4955-b2b1-4c700dc0fc29",
   "metadata": {
    "tags": []
   },
   "outputs": [
    {
     "data": {
      "text/plain": [
       "(81, 80)"
      ]
     },
     "execution_count": 74,
     "metadata": {},
     "output_type": "execute_result"
    }
   ],
   "source": [
    "train['garage_yn']=np.where(train['GarageYrBlt'].isna(),0,1)\n",
    "train[train['garage_yn']==0].shape"
   ]
  },
  {
   "cell_type": "code",
   "execution_count": 75,
   "id": "d0b9639b-0482-469f-8ae8-bdad3fe15f9a",
   "metadata": {
    "tags": []
   },
   "outputs": [
    {
     "data": {
      "image/png": "[encoded data removed]",
      "text/plain": [
       "<Figure size 640x480 with 1 Axes>"
      ]
     },
     "metadata": {},
     "output_type": "display_data"
    }
   ],
   "source": [
    "sns.scatterplot(x = train['garage_yn'], y=train['SalePrice'])\n",
    "plt.show()"
   ]
  },
  {
   "cell_type": "markdown",
   "id": "fa511f0a-4ae1-42a5-a354-1d3085cfb2e0",
   "metadata": {
    "tags": []
   },
   "source": [
    "##### test"
   ]
  },
  {
   "cell_type": "code",
   "execution_count": 76,
   "id": "cc68d1f1-240f-4b91-92b0-e30f03978250",
   "metadata": {
    "tags": []
   },
   "outputs": [
    {
     "data": {
      "text/plain": [
       "(78, 79)"
      ]
     },
     "execution_count": 76,
     "metadata": {},
     "output_type": "execute_result"
    }
   ],
   "source": [
    "test['garage_yn']=np.where(test['GarageYrBlt'].isna(),0,1)\n",
    "test[test['garage_yn']==0].shape"
   ]
  },
  {
   "cell_type": "markdown",
   "id": "661de918-9009-475c-aa1a-2d39a864a6a5",
   "metadata": {},
   "source": [
    "#### GarageType\n",
    "       2Types\tMore than one type of garage         ->6\n",
    "       Attchd\tAttached to home         ->5\n",
    "       Basment\tBasement Garage    ->4\n",
    "       BuiltIn\tBuilt-In (Garage part of house - typically has room above garage)   ->3\n",
    "       CarPort\tCar Port    ->2\n",
    "       Detchd\tDetached from home   ->1\n",
    "       NA\tNo Garage   -> 0"
   ]
  },
  {
   "cell_type": "code",
   "execution_count": 77,
   "id": "9f479974-db4b-4c94-9dbd-89f3dd4a5b9d",
   "metadata": {
    "tags": []
   },
   "outputs": [
    {
     "data": {
      "text/plain": [
       "(81, 80)"
      ]
     },
     "execution_count": 77,
     "metadata": {},
     "output_type": "execute_result"
    }
   ],
   "source": [
    "train[(train['GarageType'].isna())|(train['GarageYrBlt'].isna())].shape"
   ]
  },
  {
   "cell_type": "code",
   "execution_count": 78,
   "id": "a7a03a2e-22ab-4655-a865-eab971e7d3e4",
   "metadata": {
    "tags": []
   },
   "outputs": [
    {
     "data": {
      "text/plain": [
       "Attchd     870\n",
       "Detchd     387\n",
       "BuiltIn     88\n",
       "Basment     19\n",
       "CarPort      9\n",
       "2Types       6\n",
       "Name: GarageType, dtype: int64"
      ]
     },
     "execution_count": 78,
     "metadata": {},
     "output_type": "execute_result"
    }
   ],
   "source": [
    "train['GarageType'].value_counts()"
   ]
  },
  {
   "cell_type": "code",
   "execution_count": 79,
   "id": "bab14625-83fa-4218-b8b7-2e5bd1461d2d",
   "metadata": {
    "tags": []
   },
   "outputs": [
    {
     "data": {
      "image/png": "[encoded data removed]",
      "text/plain": [
       "<Figure size 640x480 with 1 Axes>"
      ]
     },
     "metadata": {},
     "output_type": "display_data"
    }
   ],
   "source": [
    "sns.scatterplot(x = train['GarageType'], y=train['SalePrice'])\n",
    "plt.show()"
   ]
  },
  {
   "cell_type": "code",
   "execution_count": 80,
   "id": "c2318749-fea0-43ea-8cbe-3ad4e562181c",
   "metadata": {
    "tags": []
   },
   "outputs": [],
   "source": [
    "dic_garage = {'2Types':6, 'Attchd':5, 'Basment':4 ,'BuiltIn':3,'CarPort':2,'Detchd':1}\n",
    "train['GarageType'].replace(dic_garage,inplace=True)\n",
    "train['GarageType'].fillna(0,inplace=True)"
   ]
  },
  {
   "cell_type": "code",
   "execution_count": 81,
   "id": "a2931882-9130-454d-b738-a0c1a9620218",
   "metadata": {
    "tags": []
   },
   "outputs": [
    {
     "data": {
      "text/plain": [
       "0"
      ]
     },
     "execution_count": 81,
     "metadata": {},
     "output_type": "execute_result"
    }
   ],
   "source": [
    "train['GarageType'].isna().sum()"
   ]
  },
  {
   "cell_type": "markdown",
   "id": "94d7a368-1291-4e3d-9423-f729a89eb599",
   "metadata": {},
   "source": [
    "##### test"
   ]
  },
  {
   "cell_type": "code",
   "execution_count": 82,
   "id": "b77e6f77-ddaa-45bb-8f99-bbc2e1644b43",
   "metadata": {
    "tags": []
   },
   "outputs": [],
   "source": [
    "dic_garage = {'2Types':6, 'Attchd':5, 'Basment':4 ,'BuiltIn':3,'CarPort':2,'Detchd':1}\n",
    "test['GarageType'].replace(dic_garage,inplace=True)\n",
    "test['GarageType'].fillna(0,inplace=True)"
   ]
  },
  {
   "cell_type": "markdown",
   "id": "a6985b93-c8f1-4444-b2ad-47ad35d2da39",
   "metadata": {},
   "source": [
    "#### ▼GarageYrBlt\n",
    "- 결측은 차고가 없음 ->YearBuilt(시공일)으로 채움\n",
    "- 중요치 않아 보임 (drop 예정)"
   ]
  },
  {
   "cell_type": "code",
   "execution_count": 83,
   "id": "98743d12-91b1-4dbd-8d4a-35b1dd526bf7",
   "metadata": {
    "tags": []
   },
   "outputs": [
    {
     "data": {
      "text/plain": [
       "81"
      ]
     },
     "execution_count": 83,
     "metadata": {},
     "output_type": "execute_result"
    }
   ],
   "source": [
    "train['GarageYrBlt'].isna().sum()"
   ]
  },
  {
   "cell_type": "code",
   "execution_count": 84,
   "id": "7316c6ac-029c-457d-bcdd-dc40e37f4852",
   "metadata": {
    "tags": []
   },
   "outputs": [
    {
     "data": {
      "text/plain": [
       "(1089, 80)"
      ]
     },
     "execution_count": 84,
     "metadata": {},
     "output_type": "execute_result"
    }
   ],
   "source": [
    "train[train['GarageYrBlt']==train['YearBuilt']].shape"
   ]
  },
  {
   "cell_type": "code",
   "execution_count": 85,
   "id": "bd44ba13-c6ee-4452-90e7-6f1a6befe4f9",
   "metadata": {
    "tags": []
   },
   "outputs": [
    {
     "data": {
      "text/plain": [
       "(1089, 80)"
      ]
     },
     "execution_count": 85,
     "metadata": {},
     "output_type": "execute_result"
    }
   ],
   "source": [
    "train[train['GarageYrBlt']==train['YearBuilt']].shape"
   ]
  },
  {
   "cell_type": "code",
   "execution_count": 86,
   "id": "9a82c95e-0b16-4730-8cc4-6ee793b39180",
   "metadata": {
    "tags": []
   },
   "outputs": [],
   "source": [
    "train['GarageYrBlt'].fillna(train['YearBuilt'],inplace=True)"
   ]
  },
  {
   "cell_type": "code",
   "execution_count": 87,
   "id": "e3281761-61ce-4900-ad98-2c2f3f4dd5c5",
   "metadata": {
    "tags": []
   },
   "outputs": [
    {
     "data": {
      "image/png": "[encoded data removed]",
      "text/plain": [
       "<Figure size 640x480 with 1 Axes>"
      ]
     },
     "metadata": {},
     "output_type": "display_data"
    }
   ],
   "source": [
    "sns.scatterplot(x = train['GarageYrBlt'], y=train['SalePrice'])\n",
    "plt.show()"
   ]
  },
  {
   "cell_type": "markdown",
   "id": "3bf4f1ec-bde0-4f9f-8ebb-17b0bdc92b54",
   "metadata": {},
   "source": [
    "##### test"
   ]
  },
  {
   "cell_type": "code",
   "execution_count": 88,
   "id": "0b79b6b5-bdd5-4552-8634-8323a24a6e97",
   "metadata": {
    "tags": []
   },
   "outputs": [
    {
     "data": {
      "text/plain": [
       "78"
      ]
     },
     "execution_count": 88,
     "metadata": {},
     "output_type": "execute_result"
    }
   ],
   "source": [
    "test['GarageYrBlt'].isna().sum()"
   ]
  },
  {
   "cell_type": "code",
   "execution_count": 89,
   "id": "1aa39153-240a-4618-9866-c78ee73ecbb1",
   "metadata": {
    "tags": []
   },
   "outputs": [],
   "source": [
    "test['GarageYrBlt'].fillna(test['YearBuilt'],inplace=True)"
   ]
  },
  {
   "cell_type": "code",
   "execution_count": 90,
   "id": "4d28e850-af58-4086-9804-53bd66d0fcb9",
   "metadata": {
    "tags": []
   },
   "outputs": [],
   "source": [
    "train=train.drop('GarageYrBlt',axis=1)\n",
    "test=test.drop('GarageYrBlt',axis=1)"
   ]
  },
  {
   "cell_type": "markdown",
   "id": "1af9d2b9-a5a5-4dc2-a745-6ad3c3ed1183",
   "metadata": {},
   "source": [
    "#### GarageFinish\n",
    "\n",
    "       Fin\tFinished  ->3\n",
    "       RFn\tRough Finished   ->2\n",
    "       Unf\tUnfinished   ->1\n",
    "       NA\tNo Garage    ->0"
   ]
  },
  {
   "cell_type": "code",
   "execution_count": 91,
   "id": "278c6ad6-970e-4a63-a9c9-435466a8b852",
   "metadata": {
    "tags": []
   },
   "outputs": [],
   "source": [
    "gar_fin_dic = {'Fin': 3, 'RFn': 2,'Unf':1}\n",
    "train['GarageFinish'].replace(gar_fin_dic,inplace=True)\n",
    "train['GarageFinish'].fillna(0,inplace=True)"
   ]
  },
  {
   "cell_type": "code",
   "execution_count": 92,
   "id": "5992846a-6c8e-4b97-9cbe-3c68b438e61c",
   "metadata": {
    "tags": []
   },
   "outputs": [
    {
     "data": {
      "image/png": "[encoded data removed]",
      "text/plain": [
       "<Figure size 640x480 with 1 Axes>"
      ]
     },
     "metadata": {},
     "output_type": "display_data"
    }
   ],
   "source": [
    "sns.scatterplot(x = train['GarageFinish'], y=train['SalePrice'])\n",
    "plt.show()"
   ]
  },
  {
   "cell_type": "markdown",
   "id": "f265ad8e-5678-49d4-9201-893e78024542",
   "metadata": {},
   "source": [
    "##### test"
   ]
  },
  {
   "cell_type": "code",
   "execution_count": 93,
   "id": "ae800acd-1235-4546-8cc0-f1650553b9bb",
   "metadata": {
    "tags": []
   },
   "outputs": [],
   "source": [
    "gar_fin_dic = {'Fin': 3, 'RFn': 2,'Unf':1}\n",
    "test['GarageFinish'].replace(gar_fin_dic,inplace=True)\n",
    "test['GarageFinish'].fillna(0,inplace=True)"
   ]
  },
  {
   "cell_type": "markdown",
   "id": "7676e736-0ea1-4316-b5d4-29620dac6c70",
   "metadata": {},
   "source": [
    "#### ▼GarageQual, GarageCond -> ★파생피쳐 garageall      \n",
    "- 차고 상태와 퀄리티는 'TA' -> 적당한게 좋다\n",
    "- drop 하고 파생 피쳐 만들어서 하나로 합침"
   ]
  },
  {
   "cell_type": "code",
   "execution_count": 94,
   "id": "451282b1-f2f2-4656-87fe-eae559ab8328",
   "metadata": {},
   "outputs": [],
   "source": [
    "val_dic={'Ex':5, 'Gd':4 ,'TA':3,'Fa':2,'Po':1}"
   ]
  },
  {
   "cell_type": "code",
   "execution_count": 95,
   "id": "9d4c3490-c0a1-45b1-af3a-ec91cbef349b",
   "metadata": {
    "tags": []
   },
   "outputs": [
    {
     "data": {
      "text/plain": [
       "TA    1311\n",
       "Fa      48\n",
       "Gd      14\n",
       "Ex       3\n",
       "Po       3\n",
       "Name: GarageQual, dtype: int64"
      ]
     },
     "execution_count": 95,
     "metadata": {},
     "output_type": "execute_result"
    }
   ],
   "source": [
    "train['GarageQual'].value_counts()"
   ]
  },
  {
   "cell_type": "code",
   "execution_count": 96,
   "id": "97e24551-8d4d-4a8f-ab67-abca4c776610",
   "metadata": {
    "tags": []
   },
   "outputs": [
    {
     "data": {
      "image/png": "[encoded data removed]",
      "text/plain": [
       "<Figure size 1200x500 with 2 Axes>"
      ]
     },
     "metadata": {},
     "output_type": "display_data"
    }
   ],
   "source": [
    "fig,ax=plt.subplots(1,2,figsize=(12,5))\n",
    "\n",
    "sns.scatterplot(x = train['GarageQual'], y=train['SalePrice'],ax=ax[0])\n",
    "\n",
    "sns.scatterplot(x = train['GarageCond'], y=train['SalePrice'],ax=ax[1])\n",
    "plt.show()"
   ]
  },
  {
   "cell_type": "code",
   "execution_count": 97,
   "id": "0e69d6c4-ce0b-4ea0-8d07-55eeb1533801",
   "metadata": {
    "tags": []
   },
   "outputs": [
    {
     "data": {
      "text/plain": [
       "(1311, 79)"
      ]
     },
     "execution_count": 97,
     "metadata": {},
     "output_type": "execute_result"
    }
   ],
   "source": [
    "train[train['GarageQual']=='TA'].shape"
   ]
  },
  {
   "cell_type": "code",
   "execution_count": 98,
   "id": "5d810cf1-682e-47c5-80a3-06cefcb1cefc",
   "metadata": {
    "tags": []
   },
   "outputs": [
    {
     "data": {
      "text/plain": [
       "(1326, 79)"
      ]
     },
     "execution_count": 98,
     "metadata": {},
     "output_type": "execute_result"
    }
   ],
   "source": [
    "train[train['GarageCond']=='TA'].shape"
   ]
  },
  {
   "cell_type": "code",
   "execution_count": 99,
   "id": "54d1e4fb-ed71-4e9c-8efc-455e246de162",
   "metadata": {
    "tags": []
   },
   "outputs": [
    {
     "data": {
      "text/plain": [
       "(1346, 79)"
      ]
     },
     "execution_count": 99,
     "metadata": {},
     "output_type": "execute_result"
    }
   ],
   "source": [
    "train[(train['GarageQual']=='TA')|(train['GarageCond']=='TA')].shape"
   ]
  },
  {
   "cell_type": "code",
   "execution_count": 100,
   "id": "82ba9db1-766b-4ef7-95cc-862341046925",
   "metadata": {
    "tags": []
   },
   "outputs": [],
   "source": [
    "train['garageall']=np.where((train['GarageQual']=='TA')|(train['GarageCond']=='TA'),1,0)"
   ]
  },
  {
   "cell_type": "code",
   "execution_count": 101,
   "id": "54b51204-7db3-43e6-ab7b-a8ac5bf40ff7",
   "metadata": {
    "tags": []
   },
   "outputs": [
    {
     "data": {
      "image/png": "[encoded data removed]",
      "text/plain": [
       "<Figure size 640x480 with 1 Axes>"
      ]
     },
     "metadata": {},
     "output_type": "display_data"
    }
   ],
   "source": [
    "sns.scatterplot(x = train['garageall'], y=train['SalePrice'])\n",
    "plt.show()"
   ]
  },
  {
   "cell_type": "code",
   "execution_count": 102,
   "id": "b794e45a-0dd8-4eec-85cc-ff12f507d6b1",
   "metadata": {
    "tags": []
   },
   "outputs": [],
   "source": [
    "train = train.drop(['GarageQual', 'GarageCond'],axis=1)"
   ]
  },
  {
   "cell_type": "markdown",
   "id": "9fd773c8-c685-43ee-bb3e-0211a7e7e1ad",
   "metadata": {},
   "source": [
    "##### test"
   ]
  },
  {
   "cell_type": "code",
   "execution_count": 103,
   "id": "4fb46fe2-2558-4e91-b1fb-31bc9f38955c",
   "metadata": {
    "tags": []
   },
   "outputs": [],
   "source": [
    "test['garageall']=np.where((test['GarageQual']=='TA')|(test['GarageCond']=='TA'),1,0)"
   ]
  },
  {
   "cell_type": "code",
   "execution_count": 104,
   "id": "22a78fb4-3634-4b4b-9728-7cffa3af33a5",
   "metadata": {
    "tags": []
   },
   "outputs": [],
   "source": [
    "test = test.drop(['GarageQual', 'GarageCond'],axis=1)"
   ]
  },
  {
   "cell_type": "markdown",
   "id": "01d6f925-f09c-40d8-8ba0-b0ce99f68c3a",
   "metadata": {},
   "source": [
    "### ▼PoolQC , ▼PoolArea"
   ]
  },
  {
   "cell_type": "code",
   "execution_count": 105,
   "id": "71ae7073-f56c-4ec7-b575-b3b550376d42",
   "metadata": {
    "tags": []
   },
   "outputs": [
    {
     "data": {
      "text/plain": [
       "7"
      ]
     },
     "execution_count": 105,
     "metadata": {},
     "output_type": "execute_result"
    }
   ],
   "source": [
    "train['PoolQC'].notna().sum()"
   ]
  },
  {
   "cell_type": "code",
   "execution_count": 106,
   "id": "6f6ac675-d5dd-4698-b08c-998548602031",
   "metadata": {
    "tags": []
   },
   "outputs": [
    {
     "data": {
      "text/plain": [
       "(7,)"
      ]
     },
     "execution_count": 106,
     "metadata": {},
     "output_type": "execute_result"
    }
   ],
   "source": [
    "train['PoolArea'][train['PoolArea']!=0].shape"
   ]
  },
  {
   "cell_type": "markdown",
   "id": "80caa974-8d15-43f6-8154-50db56dbb3d7",
   "metadata": {},
   "source": [
    "#### ★ 파생피쳐 pool_yn"
   ]
  },
  {
   "cell_type": "code",
   "execution_count": 107,
   "id": "584911df-2338-4b51-99ee-fd25b837f676",
   "metadata": {
    "tags": []
   },
   "outputs": [],
   "source": [
    "train['pool_yn']= np.where(train['PoolQC'].notna(),1,0)\n",
    "train.drop(['PoolQC','PoolArea'],axis=1,inplace=True)"
   ]
  },
  {
   "cell_type": "code",
   "execution_count": 108,
   "id": "53d1bf1a-ebb6-4c85-90cd-15582519d7d0",
   "metadata": {
    "tags": []
   },
   "outputs": [
    {
     "data": {
      "text/plain": [
       "0    1453\n",
       "1       7\n",
       "Name: pool_yn, dtype: int64"
      ]
     },
     "execution_count": 108,
     "metadata": {},
     "output_type": "execute_result"
    }
   ],
   "source": [
    "train['pool_yn'].value_counts()"
   ]
  },
  {
   "cell_type": "markdown",
   "id": "779ca59f-97e0-4c05-8841-e477fb61ed8d",
   "metadata": {},
   "source": [
    "##### test"
   ]
  },
  {
   "cell_type": "code",
   "execution_count": 109,
   "id": "37fdb955-2855-4352-abc8-c7420aab4bcd",
   "metadata": {
    "tags": []
   },
   "outputs": [],
   "source": [
    "test['pool_yn']= np.where(test['PoolQC'].notna(),1,0)\n",
    "test.drop(['PoolQC','PoolArea'],axis=1,inplace=True)"
   ]
  },
  {
   "cell_type": "code",
   "execution_count": 110,
   "id": "35c7be75-9556-48dd-9347-b8ee79b0fe1d",
   "metadata": {
    "tags": []
   },
   "outputs": [
    {
     "data": {
      "text/plain": [
       "0    1456\n",
       "1       3\n",
       "Name: pool_yn, dtype: int64"
      ]
     },
     "execution_count": 110,
     "metadata": {},
     "output_type": "execute_result"
    }
   ],
   "source": [
    "test['pool_yn'].value_counts()"
   ]
  },
  {
   "cell_type": "markdown",
   "id": "90c47523-9153-4e5c-838d-4fbde7150926",
   "metadata": {},
   "source": [
    "### Fence\n",
    "       GdPrv\tGood Privacy    ->4\n",
    "       MnPrv\tMinimum Privacy   ->3\n",
    "       GdWo\tGood Wood            ->2\n",
    "       MnWw\tMinimum Wood/Wire    ->1\n",
    "       NA\tNo Fence             ->0"
   ]
  },
  {
   "cell_type": "code",
   "execution_count": 111,
   "id": "6d90c3f5-d876-4e34-ac23-943a513f717e",
   "metadata": {
    "tags": []
   },
   "outputs": [
    {
     "data": {
      "text/plain": [
       "1179"
      ]
     },
     "execution_count": 111,
     "metadata": {},
     "output_type": "execute_result"
    }
   ],
   "source": [
    "train['Fence'].isna().sum()"
   ]
  },
  {
   "cell_type": "code",
   "execution_count": 112,
   "id": "12999484-0cd5-437f-9da4-e1a89c291ac1",
   "metadata": {
    "tags": []
   },
   "outputs": [
    {
     "data": {
      "text/plain": [
       "MnPrv    157\n",
       "GdPrv     59\n",
       "GdWo      54\n",
       "MnWw      11\n",
       "Name: Fence, dtype: int64"
      ]
     },
     "execution_count": 112,
     "metadata": {},
     "output_type": "execute_result"
    }
   ],
   "source": [
    "train['Fence'].value_counts()"
   ]
  },
  {
   "cell_type": "code",
   "execution_count": 113,
   "id": "f5155f73-d70e-44f1-ad5d-af3d44c6a988",
   "metadata": {
    "tags": []
   },
   "outputs": [
    {
     "data": {
      "image/png": "[encoded data removed]",
      "text/plain": [
       "<Figure size 640x480 with 1 Axes>"
      ]
     },
     "metadata": {},
     "output_type": "display_data"
    }
   ],
   "source": [
    "sns.scatterplot(x = train['Fence'], y=train['SalePrice'])\n",
    "plt.show()"
   ]
  },
  {
   "cell_type": "code",
   "execution_count": 114,
   "id": "291f2585-63e0-44f1-9303-f202d7d873b4",
   "metadata": {
    "tags": []
   },
   "outputs": [],
   "source": [
    "fen_dic={'GdPrv':4,'MnPrv':3, 'GdWo':2,'MnWw':1}  \n",
    "train['Fence'].replace(fen_dic,inplace=True)\n",
    "train['Fence'].fillna(0,inplace=True)"
   ]
  },
  {
   "cell_type": "markdown",
   "id": "35715630-7644-4612-b0e4-744a09720426",
   "metadata": {},
   "source": [
    "#### test"
   ]
  },
  {
   "cell_type": "code",
   "execution_count": 115,
   "id": "f355249c-e44c-4d1b-b0b1-d7a930ca86ce",
   "metadata": {
    "tags": []
   },
   "outputs": [
    {
     "data": {
      "text/plain": [
       "1169"
      ]
     },
     "execution_count": 115,
     "metadata": {},
     "output_type": "execute_result"
    }
   ],
   "source": [
    "test['Fence'].isna().sum()"
   ]
  },
  {
   "cell_type": "code",
   "execution_count": 116,
   "id": "79ca298f-6b58-4901-bdc0-e6c1279ce3d4",
   "metadata": {
    "tags": []
   },
   "outputs": [],
   "source": [
    "fen_dic={'GdPrv':4,'MnPrv':3, 'GdWo':2,'MnWw':1}  \n",
    "test['Fence'].replace(fen_dic,inplace=True)\n",
    "test['Fence'].fillna(0,inplace=True)"
   ]
  },
  {
   "cell_type": "markdown",
   "id": "5734d768-b010-418f-ac3f-ca5b99161709",
   "metadata": {},
   "source": [
    "### MiscFeature, MiscVal\n",
    "- MiscFeature \n",
    ": 다른 카테고리에서 다루지 않은 기타 기능\n",
    "    Elev\tElevator\n",
    "    Gar2\t2nd Garage (if not described in garage section)\n",
    "    Othr\tOther\n",
    "    Shed\tShed (over 100 SF) 창고\n",
    "    TenC\tTennis Court\n",
    "    NA\tNone\n",
    "  \n",
    "\n",
    "- MiscVal\n",
    ": 기타 기능의 가치\n"
   ]
  },
  {
   "cell_type": "code",
   "execution_count": 117,
   "id": "f8a6e127-c2b1-4616-aa1a-776ed45e6806",
   "metadata": {
    "tags": []
   },
   "outputs": [
    {
     "data": {
      "text/plain": [
       "1406"
      ]
     },
     "execution_count": 117,
     "metadata": {},
     "output_type": "execute_result"
    }
   ],
   "source": [
    "train['MiscFeature'].isna().sum()"
   ]
  },
  {
   "cell_type": "code",
   "execution_count": 118,
   "id": "380423f8-7e51-42f9-9b4f-ece581dc3cd3",
   "metadata": {
    "tags": []
   },
   "outputs": [
    {
     "data": {
      "text/plain": [
       "1408"
      ]
     },
     "execution_count": 118,
     "metadata": {},
     "output_type": "execute_result"
    }
   ],
   "source": [
    "train[train['MiscVal']==0].shape[0]"
   ]
  },
  {
   "cell_type": "code",
   "execution_count": 119,
   "id": "330527e4-a5bd-4668-a02c-dee91752a00d",
   "metadata": {
    "tags": []
   },
   "outputs": [
    {
     "data": {
      "text/plain": [
       "873     Othr\n",
       "1200    Shed\n",
       "Name: MiscFeature, dtype: object"
      ]
     },
     "execution_count": 119,
     "metadata": {},
     "output_type": "execute_result"
    }
   ],
   "source": [
    "train['MiscFeature'][(train['MiscFeature'].notna())&(train['MiscVal']==0)]"
   ]
  },
  {
   "cell_type": "code",
   "execution_count": 120,
   "id": "22a8c3e8-a438-40ce-8566-0475805451de",
   "metadata": {
    "tags": []
   },
   "outputs": [
    {
     "data": {
      "text/plain": [
       "Shed    49\n",
       "Gar2     2\n",
       "Othr     2\n",
       "TenC     1\n",
       "Name: MiscFeature, dtype: int64"
      ]
     },
     "execution_count": 120,
     "metadata": {},
     "output_type": "execute_result"
    }
   ],
   "source": [
    "train['MiscFeature'].value_counts()"
   ]
  },
  {
   "cell_type": "code",
   "execution_count": 121,
   "id": "f50875e4-075f-4ff1-bb13-32165882f12c",
   "metadata": {
    "tags": []
   },
   "outputs": [
    {
     "data": {
      "text/plain": [
       "0        1408\n",
       "400        11\n",
       "500         8\n",
       "700         5\n",
       "450         4\n",
       "600         4\n",
       "2000        4\n",
       "1200        2\n",
       "480         2\n",
       "15500       1\n",
       "800         1\n",
       "350         1\n",
       "3500        1\n",
       "1300        1\n",
       "54          1\n",
       "620         1\n",
       "560         1\n",
       "1400        1\n",
       "8300        1\n",
       "1150        1\n",
       "2500        1\n",
       "Name: MiscVal, dtype: int64"
      ]
     },
     "execution_count": 121,
     "metadata": {},
     "output_type": "execute_result"
    }
   ],
   "source": [
    "train['MiscVal'].value_counts()"
   ]
  },
  {
   "cell_type": "code",
   "execution_count": 122,
   "id": "3a2ab102-3327-44d5-a90e-7dada4f670c0",
   "metadata": {
    "tags": []
   },
   "outputs": [
    {
     "data": {
      "image/png": "[encoded data removed]",
      "text/plain": [
       "<Figure size 1200x500 with 2 Axes>"
      ]
     },
     "metadata": {},
     "output_type": "display_data"
    }
   ],
   "source": [
    "fig,ax = plt.subplots(1,2,figsize=(12,5))\n",
    "sns.scatterplot(x = train['MiscFeature'], y=train['MiscVal'],ax=ax[0])\n",
    "sns.scatterplot(x = train['MiscFeature'], y=train['SalePrice'],ax=ax[1])\n",
    "plt.tight_layout()\n",
    "plt.show()"
   ]
  },
  {
   "cell_type": "markdown",
   "id": "61216e6a-3e9b-43b9-9649-3f488032355e",
   "metadata": {},
   "source": [
    "# test 데이터 결측 확인하기"
   ]
  },
  {
   "cell_type": "code",
   "execution_count": null,
   "id": "3d34327d-7f65-4574-b255-5e61fdcf3045",
   "metadata": {},
   "outputs": [],
   "source": [
    "ㅇㄹㄴㄹㄴㄹㅇㄹㄴㅇㄹㄴㅇㄹㄴㅇㄹ"
   ]
  },
  {
   "cell_type": "markdown",
   "id": "a4810053-14f9-4593-b7b9-f2f1d683f502",
   "metadata": {
    "tags": []
   },
   "source": [
    "## 컬럼 분류\n",
    "<pre>\n",
    "● 날짜 관련 \n",
    "  - ['YearBuilt','YearRemodAdd','GarageYrBlt','MoSold','YrSold']\n",
    "    \n",
    "● 집 총평 \n",
    "  - Overall 1 ~10  \n",
    "  - Qual , QC, Qu, Cond {'Ex':5,'Gd':4,'TA':3,'Fa':2,'Po':1,'NA':0}\n",
    "  - ['OverallQual','OverallCond','KitchenQual','HeatingQC','FireplaceQu','ExterQual','ExterCond','BsmtQual','BsmtCond','GarageQual','GarageCond','PoolQC']     \n",
    "\n",
    "● 판매 관련 \n",
    "  - ['SaleType','SaleCondition','MSSubClass','MSZoning','BldgType','HouseStyle','Functional']\n",
    "  - MSSubClass(판매유형), MSZoning(용도구분), BldgType(주거유형), HouseStyle(주거스타일), 홈기능(Functional)\n",
    "              \n",
    "● 전용면적 \n",
    "  - ['GrLivArea','1stFlrSF','2ndFlrSF','LotArea','LandSlope','LandContour']\n",
    "  - Lot*,  GrLivArea(1stFlrSF,2ndFlrSF,LotArea), LandSlope(기울기), LandContour(평평도)\n",
    "              \n",
    "● 내부시설(구조물갯수,난방)\n",
    "  - ['TotRmsAbvGrd','Bedroom','FullBath','HalfBath','Kitchen','Utilities','Heating','HeatingQC','Fireplaces','CentralAir','Electrical']\n",
    "    \n",
    "● 외부시설\n",
    "  - porch*, WoodDeckSF\n",
    "  - 지하실 : Bsmt*  \n",
    "  - 차고지: Garage*\n",
    "  - 공사진행여부 ['LowQualFinSF','BsmtFinSF1','BsmtFinSF2','BsmtUnfSF']\n",
    "  - 기타자산 Pool, Mise ['PoolArea','PoolQC','MiscVal','MiscFeature'] \n",
    "            \n",
    "● 외장재\n",
    "  - Exter* , MasVnr*, FenseRoof\n",
    "\n",
    "● 도로 \n",
    "  - 포장 : Street, PavedDrive, Alley      \n",
    "  - 접근성 : Condition1, Condition2, Neighborhood\n",
    "</pre>"
   ]
  },
  {
   "cell_type": "markdown",
   "id": "70d996fe-ebbf-46f1-b1f9-353fa2bc079a",
   "metadata": {},
   "source": [
    "### Target : SalePrice"
   ]
  },
  {
   "cell_type": "code",
   "execution_count": 123,
   "id": "1057cf17-1ffa-43cd-b7e3-d08c9ada4833",
   "metadata": {
    "tags": []
   },
   "outputs": [
    {
     "data": {
      "text/plain": [
       "663"
      ]
     },
     "execution_count": 123,
     "metadata": {},
     "output_type": "execute_result"
    }
   ],
   "source": [
    "train['SalePrice'].nunique()"
   ]
  },
  {
   "cell_type": "markdown",
   "id": "e00d0f59-fe55-4059-ad2d-28bc913df47a",
   "metadata": {},
   "source": [
    "### 날짜 관련 \n",
    "  - ['YearBuilt','YearRemodAdd','GarageYrBlt','MoSold','YrSold']\n",
    "    "
   ]
  },
  {
   "cell_type": "code",
   "execution_count": 124,
   "id": "6c153cd6-2903-4fb5-9fc8-9252c892bb7d",
   "metadata": {
    "tags": []
   },
   "outputs": [
    {
     "data": {
      "text/plain": [
       "2006    67\n",
       "2005    64\n",
       "2004    54\n",
       "2007    49\n",
       "2003    45\n",
       "Name: YearBuilt, dtype: int64"
      ]
     },
     "execution_count": 124,
     "metadata": {},
     "output_type": "execute_result"
    }
   ],
   "source": [
    "train['YearBuilt'].value_counts()[:5]"
   ]
  },
  {
   "cell_type": "code",
   "execution_count": 125,
   "id": "7dbf67a9-89ed-4583-ac75-91a6ae90597f",
   "metadata": {
    "tags": []
   },
   "outputs": [
    {
     "data": {
      "text/plain": [
       "1950    178\n",
       "2006     97\n",
       "2007     76\n",
       "2005     73\n",
       "2004     62\n",
       "Name: YearRemodAdd, dtype: int64"
      ]
     },
     "execution_count": 125,
     "metadata": {},
     "output_type": "execute_result"
    }
   ],
   "source": [
    "train['YearRemodAdd'].value_counts()[:5]"
   ]
  },
  {
   "cell_type": "code",
   "execution_count": 126,
   "id": "ddf8a340-7b74-4de1-b5e4-0891856fe699",
   "metadata": {
    "tags": []
   },
   "outputs": [
    {
     "ename": "KeyError",
     "evalue": "'GarageYrBlt'",
     "output_type": "error",
     "traceback": [
      "\u001b[1;31m---------------------------------------------------------------------------\u001b[0m",
      "\u001b[1;31mKeyError\u001b[0m                                  Traceback (most recent call last)",
      "File \u001b[1;32mC:\\AI\\pythonProject\\venv\\lib\\site-packages\\pandas\\core\\indexes\\base.py:3802\u001b[0m, in \u001b[0;36mIndex.get_loc\u001b[1;34m(self, key, method, tolerance)\u001b[0m\n\u001b[0;32m   3801\u001b[0m \u001b[38;5;28;01mtry\u001b[39;00m:\n\u001b[1;32m-> 3802\u001b[0m     \u001b[38;5;28;01mreturn\u001b[39;00m \u001b[38;5;28;43mself\u001b[39;49m\u001b[38;5;241;43m.\u001b[39;49m\u001b[43m_engine\u001b[49m\u001b[38;5;241;43m.\u001b[39;49m\u001b[43mget_loc\u001b[49m\u001b[43m(\u001b[49m\u001b[43mcasted_key\u001b[49m\u001b[43m)\u001b[49m\n\u001b[0;32m   3803\u001b[0m \u001b[38;5;28;01mexcept\u001b[39;00m \u001b[38;5;167;01mKeyError\u001b[39;00m \u001b[38;5;28;01mas\u001b[39;00m err:\n",
      "File \u001b[1;32mC:\\AI\\pythonProject\\venv\\lib\\site-packages\\pandas\\_libs\\index.pyx:138\u001b[0m, in \u001b[0;36mpandas._libs.index.IndexEngine.get_loc\u001b[1;34m()\u001b[0m\n",
      "File \u001b[1;32mC:\\AI\\pythonProject\\venv\\lib\\site-packages\\pandas\\_libs\\index.pyx:165\u001b[0m, in \u001b[0;36mpandas._libs.index.IndexEngine.get_loc\u001b[1;34m()\u001b[0m\n",
      "File \u001b[1;32mpandas\\_libs\\hashtable_class_helper.pxi:5745\u001b[0m, in \u001b[0;36mpandas._libs.hashtable.PyObjectHashTable.get_item\u001b[1;34m()\u001b[0m\n",
      "File \u001b[1;32mpandas\\_libs\\hashtable_class_helper.pxi:5753\u001b[0m, in \u001b[0;36mpandas._libs.hashtable.PyObjectHashTable.get_item\u001b[1;34m()\u001b[0m\n",
      "\u001b[1;31mKeyError\u001b[0m: 'GarageYrBlt'",
      "\nThe above exception was the direct cause of the following exception:\n",
      "\u001b[1;31mKeyError\u001b[0m                                  Traceback (most recent call last)",
      "Cell \u001b[1;32mIn[126], line 1\u001b[0m\n\u001b[1;32m----> 1\u001b[0m train[\u001b[38;5;124m'\u001b[39m\u001b[38;5;124mYearBuilt\u001b[39m\u001b[38;5;124m'\u001b[39m][(train[\u001b[38;5;124m'\u001b[39m\u001b[38;5;124mYearBuilt\u001b[39m\u001b[38;5;124m'\u001b[39m]\u001b[38;5;241m==\u001b[39m\u001b[43mtrain\u001b[49m\u001b[43m[\u001b[49m\u001b[38;5;124;43m'\u001b[39;49m\u001b[38;5;124;43mGarageYrBlt\u001b[39;49m\u001b[38;5;124;43m'\u001b[39;49m\u001b[43m]\u001b[49m)]\u001b[38;5;241m.\u001b[39mcount()\n",
      "File \u001b[1;32mC:\\AI\\pythonProject\\venv\\lib\\site-packages\\pandas\\core\\frame.py:3807\u001b[0m, in \u001b[0;36mDataFrame.__getitem__\u001b[1;34m(self, key)\u001b[0m\n\u001b[0;32m   3805\u001b[0m \u001b[38;5;28;01mif\u001b[39;00m \u001b[38;5;28mself\u001b[39m\u001b[38;5;241m.\u001b[39mcolumns\u001b[38;5;241m.\u001b[39mnlevels \u001b[38;5;241m>\u001b[39m \u001b[38;5;241m1\u001b[39m:\n\u001b[0;32m   3806\u001b[0m     \u001b[38;5;28;01mreturn\u001b[39;00m \u001b[38;5;28mself\u001b[39m\u001b[38;5;241m.\u001b[39m_getitem_multilevel(key)\n\u001b[1;32m-> 3807\u001b[0m indexer \u001b[38;5;241m=\u001b[39m \u001b[38;5;28;43mself\u001b[39;49m\u001b[38;5;241;43m.\u001b[39;49m\u001b[43mcolumns\u001b[49m\u001b[38;5;241;43m.\u001b[39;49m\u001b[43mget_loc\u001b[49m\u001b[43m(\u001b[49m\u001b[43mkey\u001b[49m\u001b[43m)\u001b[49m\n\u001b[0;32m   3808\u001b[0m \u001b[38;5;28;01mif\u001b[39;00m is_integer(indexer):\n\u001b[0;32m   3809\u001b[0m     indexer \u001b[38;5;241m=\u001b[39m [indexer]\n",
      "File \u001b[1;32mC:\\AI\\pythonProject\\venv\\lib\\site-packages\\pandas\\core\\indexes\\base.py:3804\u001b[0m, in \u001b[0;36mIndex.get_loc\u001b[1;34m(self, key, method, tolerance)\u001b[0m\n\u001b[0;32m   3802\u001b[0m     \u001b[38;5;28;01mreturn\u001b[39;00m \u001b[38;5;28mself\u001b[39m\u001b[38;5;241m.\u001b[39m_engine\u001b[38;5;241m.\u001b[39mget_loc(casted_key)\n\u001b[0;32m   3803\u001b[0m \u001b[38;5;28;01mexcept\u001b[39;00m \u001b[38;5;167;01mKeyError\u001b[39;00m \u001b[38;5;28;01mas\u001b[39;00m err:\n\u001b[1;32m-> 3804\u001b[0m     \u001b[38;5;28;01mraise\u001b[39;00m \u001b[38;5;167;01mKeyError\u001b[39;00m(key) \u001b[38;5;28;01mfrom\u001b[39;00m \u001b[38;5;21;01merr\u001b[39;00m\n\u001b[0;32m   3805\u001b[0m \u001b[38;5;28;01mexcept\u001b[39;00m \u001b[38;5;167;01mTypeError\u001b[39;00m:\n\u001b[0;32m   3806\u001b[0m     \u001b[38;5;66;03m# If we have a listlike key, _check_indexing_error will raise\u001b[39;00m\n\u001b[0;32m   3807\u001b[0m     \u001b[38;5;66;03m#  InvalidIndexError. Otherwise we fall through and re-raise\u001b[39;00m\n\u001b[0;32m   3808\u001b[0m     \u001b[38;5;66;03m#  the TypeError.\u001b[39;00m\n\u001b[0;32m   3809\u001b[0m     \u001b[38;5;28mself\u001b[39m\u001b[38;5;241m.\u001b[39m_check_indexing_error(key)\n",
      "\u001b[1;31mKeyError\u001b[0m: 'GarageYrBlt'"
     ]
    }
   ],
   "source": [
    "train['YearBuilt'][(train['YearBuilt']==train['GarageYrBlt'])].count()"
   ]
  },
  {
   "cell_type": "code",
   "execution_count": null,
   "id": "a7a714f2-6f39-48ea-bec5-1d74796a5156",
   "metadata": {
    "tags": []
   },
   "outputs": [],
   "source": [
    "train['YearBuilt'][(train['YearBuilt']!=train['GarageYrBlt'])&(train['GarageYrBlt']==train['YearRemodAdd'])].count()"
   ]
  },
  {
   "cell_type": "markdown",
   "id": "84c7116a-bd2d-4e37-bbea-c19214efcec4",
   "metadata": {},
   "source": [
    "train에서 차고지 건축 연도와 거주지 건축 연도가 같은 데이터 : 1089\n",
    "train에서 차고지 건축 연도와 거주지 건축 연도가 다른 데이터 : 371 (리모델링 하면서 차고지를 지은 건수 : 54)"
   ]
  },
  {
   "cell_type": "code",
   "execution_count": null,
   "id": "fe77f94d-4bf5-491b-82ca-56b9756ff122",
   "metadata": {
    "tags": []
   },
   "outputs": [],
   "source": [
    "train.shape"
   ]
  },
  {
   "cell_type": "code",
   "execution_count": null,
   "id": "e3a7b4b7-cba4-452b-b3d0-5e98de21a88e",
   "metadata": {
    "tags": []
   },
   "outputs": [],
   "source": [
    "train[['YrSold','MoSold']]"
   ]
  },
  {
   "cell_type": "markdown",
   "id": "0def8805-74c7-4ade-8a16-d8a97b0d2fe2",
   "metadata": {},
   "source": [
    "#### 차고지 생긴 연도와 팔린 연도 비교"
   ]
  },
  {
   "cell_type": "code",
   "execution_count": null,
   "id": "f7f79f44-df2d-4c0d-b822-707b6528cb52",
   "metadata": {
    "tags": []
   },
   "outputs": [],
   "source": [
    "train['GarageYrBlt'][train['GarageYrBlt']<train['YrSold']].count()"
   ]
  },
  {
   "cell_type": "code",
   "execution_count": null,
   "id": "c1d85ee7-1cbf-4a62-ad07-225363460bf5",
   "metadata": {
    "tags": []
   },
   "outputs": [],
   "source": [
    "train['GarageYrBlt'][train['GarageYrBlt']>=train['YrSold']].count()"
   ]
  },
  {
   "cell_type": "markdown",
   "id": "5a2093dc-8bdb-4acd-8149-c7b91e9f1341",
   "metadata": {},
   "source": [
    "### 집 총평 \n",
    "  - Overall 1 ~10  \n",
    "  - Qual , QC, Qu, Cond {'Ex':5,'Gd':4,'TA':3,'Fa':2,'Po':1,'NA':0}\n",
    "  - ['OverallQual','OverallCond','KitchenQual','HeatingQC','FireplaceQu','ExterQual','ExterCond','BsmtQual','BsmtCond','GarageQual','GarageCond','PoolQC']     "
   ]
  },
  {
   "cell_type": "markdown",
   "id": "5275c4d0-bd5f-4f16-9e16-7ac89bc91661",
   "metadata": {},
   "source": [
    "### 판매 관련 \n",
    "  - ['SaleType','SaleCondition','MSSubClass','MSZoning','BldgType','HouseStyle','Functional']\n",
    "  - MSSubClass(판매유형), MSZoning(용도구분), BldgType(주거유형), HouseStyle(주거스타일), 홈기능(Functional)\n"
   ]
  },
  {
   "cell_type": "markdown",
   "id": "01dfab86-66f4-4af6-aae4-c29ad471cecb",
   "metadata": {},
   "source": [
    "### 전용면적 \n",
    "  - ['GrLivArea','1stFlrSF','2ndFlrSF','LotArea','LandSlope','LandContour']\n",
    "  - Lot*,  GrLivArea(1stFlrSF,2ndFlrSF,LotArea), LandSlope(기울기), LandContour(평평도)\n",
    "            "
   ]
  },
  {
   "cell_type": "markdown",
   "id": "4ac367a2-5ceb-477e-8f8b-d406231ce3dc",
   "metadata": {},
   "source": [
    "### 내부시설(구조물갯수,난방)\n",
    "  - ['TotRmsAbvGrd','Bedroom','FullBath','HalfBath','Kitchen','Utilities','Heating','HeatingQC','Fireplaces','CentralAir','Electrical']\n"
   ]
  },
  {
   "cell_type": "markdown",
   "id": "750a50df-4432-477a-b3d3-9ba5db919d41",
   "metadata": {},
   "source": [
    "### 외부시설\n",
    "  - porch*, WoodDeckSF\n",
    "  - 지하실 : Bsmt*  \n",
    "  - 차고지: Garage*\n",
    "  - 공사진행여부 ['LowQualFinSF','BsmtFinSF1','BsmtFinSF2','BsmtUnfSF']\n",
    "  - 기타자산 Pool, Mise ['PoolArea','PoolQC','MiscVal','MiscFeature'] \n"
   ]
  },
  {
   "cell_type": "markdown",
   "id": "7a9c2fa9-5724-43d8-85e6-17e85e5333a1",
   "metadata": {},
   "source": [
    "### 외장재\n",
    "  - Exter* , MasVnr*, FenseRoof"
   ]
  },
  {
   "cell_type": "markdown",
   "id": "10b53352-5c15-4ee4-be38-6a22b8ed4a03",
   "metadata": {},
   "source": [
    "### 도로 \n",
    "  - 포장 : Street, PavedDrive, Alley      \n",
    "  - 접근성 : Condition1, Condition2, Neighborhood"
   ]
  },
  {
   "cell_type": "code",
   "execution_count": null,
   "id": "58b460c2-948b-4829-8e28-2507a1dab0ae",
   "metadata": {
    "tags": []
   },
   "outputs": [],
   "source": [
    "train = pd.read_csv('./train.csv')\n",
    "test = pd.read_csv('./test.csv')\n",
    "train.head()"
   ]
  },
  {
   "cell_type": "code",
   "execution_count": null,
   "id": "9192ba14-e1ad-4793-a5c1-d3fe2b1d22e5",
   "metadata": {
    "tags": []
   },
   "outputs": [],
   "source": [
    "# train = train[['OverallQual','YearBuilt','YearRemodAdd','ExterQual','BsmtQual','TotalBsmtSF','1stFlrSF','GrLivArea','FullBath','KitchenQual','GarageYrBlt','GarageCars','GarageArea','SalePrice']]\n",
    "# test = test[['OverallQual','YearBuilt','YearRemodAdd','ExterQual','BsmtQual','TotalBsmtSF','1stFlrSF','GrLivArea','FullBath','KitchenQual','GarageYrBlt','GarageCars','GarageArea']]"
   ]
  },
  {
   "cell_type": "code",
   "execution_count": null,
   "id": "f35a276f-76d1-4f40-a178-85657ca0f096",
   "metadata": {
    "tags": []
   },
   "outputs": [],
   "source": [
    "test.info(), train.info()"
   ]
  },
  {
   "cell_type": "markdown",
   "id": "308ddd27-2168-457a-8733-88a3f6ee8f74",
   "metadata": {},
   "source": [
    "## EDA (pandas_profiling)"
   ]
  },
  {
   "cell_type": "code",
   "execution_count": null,
   "id": "bd9162df-56c8-4cf2-bb91-eb97f51c078a",
   "metadata": {
    "tags": []
   },
   "outputs": [],
   "source": [
    "# profile = ProfileReport(train, title='houseprice_mini')\n",
    "# profile.to_file(output_file='houseprice_mini.html')"
   ]
  },
  {
   "cell_type": "markdown",
   "id": "e43772d1-fb3c-48b2-9107-ec5d650f8efb",
   "metadata": {},
   "source": [
    "### Alerts"
   ]
  },
  {
   "cell_type": "markdown",
   "id": "f6d87a8f-09c1-492d-a29b-3f645b321f1d",
   "metadata": {},
   "source": [
    "### 높은 상관도 \n",
    "- OverallQual, YearBuilt\n",
    "- YearRemodAdd, OverallQual\n",
    "- GrLivArea, OverallQual\n",
    "- GarageYrBlt, OverallQual\n",
    "- GarageArea, OverallQual\n",
    "- SalePrice,OverallQual\n",
    "- ExterQual, OverallQual\n",
    "- BsmtQual, OverallQual\n",
    "- KitchenQual, OverallQual\n",
    "\n",
    "- TotalBsmtSF, 1stFlrSF\n",
    "- GarageCars ,GarageArea"
   ]
  }
 ],
 "metadata": {
  "kernelspec": {
   "display_name": "Python 3 (ipykernel)",
   "language": "python",
   "name": "python3"
  },
  "language_info": {
   "codemirror_mode": {
    "name": "ipython",
    "version": 3
   },
   "file_extension": ".py",
   "mimetype": "text/x-python",
   "name": "python",
   "nbconvert_exporter": "python",
   "pygments_lexer": "ipython3",
   "version": "3.8.8"
  }
 },
 "nbformat": 4,
 "nbformat_minor": 5
}
